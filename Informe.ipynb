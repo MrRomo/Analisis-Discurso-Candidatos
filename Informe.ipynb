{
 "cells": [
  {
   "cell_type": "code",
   "execution_count": 80,
   "metadata": {},
   "outputs": [
    {
     "name": "stdout",
     "output_type": "stream",
     "text": [
      "Requirement already satisfied: nltk in c:\\users\\wwrik\\anaconda3\\lib\\site-packages (3.4.5)\n",
      "Requirement already satisfied: six in c:\\users\\wwrik\\anaconda3\\lib\\site-packages (from nltk) (1.12.0)\n",
      "Note: you may need to restart the kernel to use updated packages.\n"
     ]
    }
   ],
   "source": [
    "pip install nltk"
   ]
  },
  {
   "cell_type": "code",
   "execution_count": 180,
   "metadata": {},
   "outputs": [],
   "source": [
    "import pandas as pd\n",
    "import nltk \n",
    "from nltk.corpus import stopwords\n",
    "import collections\n",
    "import sys\n",
    "import codecs\n",
    "candidates = ['francisco','pablo','calixto','rodolfo',]\n",
    "pd.set_option(\"max_rows\", None)"
   ]
  },
  {
   "cell_type": "code",
   "execution_count": 181,
   "metadata": {},
   "outputs": [],
   "source": [
    "stop_words = set(stopwords.words('spanish'))"
   ]
  },
  {
   "cell_type": "code",
   "execution_count": 182,
   "metadata": {},
   "outputs": [],
   "source": [
    "def write_file(route, transcription, name):\n",
    "    file = codecs.open(f'{route}/Transcripcion/{name}.txt',\"w\",\"utf-8\")#write mode \n",
    "    file.write(transcription) \n",
    "    file.close() "
   ]
  },
  {
   "cell_type": "code",
   "execution_count": 183,
   "metadata": {},
   "outputs": [],
   "source": [
    "def load_data(route):\n",
    "    entities = pd.read_json(route)\n",
    "    data = pd.DataFrame([[i[\"Text\"], i[\"Type\"], i[\"Score\"]] for i in entities[\"Entities\"]]\n",
    "                            , columns=['Entitie', 'Type', 'Score'])\n",
    "    return data.sort_values('Score', ascending=False).reset_index().drop(columns=['index'])"
   ]
  },
  {
   "cell_type": "code",
   "execution_count": 184,
   "metadata": {},
   "outputs": [],
   "source": [
    "def load_transcripcion(facultad):\n",
    "    files =[pd.read_json(f'{facultad}/Subtitulos/{name}.json', encoding='utf-8') for name in candidates]\n",
    "    transcription = [sub.loc['transcripts']['results'][0]['transcript'] for sub in files]\n",
    "    for i in range(len(transcription)):\n",
    "        write_file(facultad, transcription[i],candidates[i])\n",
    "    return pd.DataFrame(transcription, index= candidates, columns= ['transcription'])"
   ]
  },
  {
   "cell_type": "code",
   "execution_count": 185,
   "metadata": {},
   "outputs": [],
   "source": [
    "def load_discurs(data):\n",
    "    text = pd.DataFrame(data.lower().replace('.', \"\").replace(',',\"\").split(' '))\n",
    "    return text"
   ]
  },
  {
   "cell_type": "code",
   "execution_count": 186,
   "metadata": {},
   "outputs": [],
   "source": [
    "def process_most_common(df, name, n):\n",
    "    return collections.Counter(df.loc[name, 'valid_words']).most_common(n)"
   ]
  },
  {
   "cell_type": "code",
   "execution_count": 187,
   "metadata": {},
   "outputs": [],
   "source": [
    "def valid_words(df):\n",
    "    tokens = tokenize_column(df, 'transcription')\n",
    "    valid_words = pd.DataFrame([len(tokens[i]) for i in range(len(candidates))], index=candidates, columns=['valid_words'])\n",
    "    return valid_words"
   ]
  },
  {
   "cell_type": "code",
   "execution_count": 188,
   "metadata": {},
   "outputs": [],
   "source": [
    "def tabulate_common(df,n):\n",
    "    df['valid_words'] = tokenize_column(df, 'transcription')\n",
    "    most_common = [process_most_common(df, name, n) for name in candidates]\n",
    "    most_common =  pd.DataFrame([i for i in most_common ])\n",
    "    most_common= most_common.transpose().rename(columns={ i:candidates[i] for i in range(4)})\n",
    "    return most_common"
   ]
  },
  {
   "cell_type": "code",
   "execution_count": 189,
   "metadata": {},
   "outputs": [],
   "source": [
    "def tokenize_column(df, column_name):\n",
    "    return(df\n",
    "            .dropna()\n",
    "            .apply(lambda row: nltk.word_tokenize(row[column_name]), axis=1)\n",
    "            .apply(lambda tokens: list(filter(lambda token: token.isalpha(),tokens)))\n",
    "            .apply(lambda tokens: list(map(lambda token: token.lower(), tokens)))\n",
    "            .apply(lambda word_list: list(filter(lambda word: word not in stop_words, word_list)))       \n",
    "    )\n"
   ]
  },
  {
   "cell_type": "markdown",
   "metadata": {},
   "source": [
    "# Facultad de Ingeniería"
   ]
  },
  {
   "cell_type": "code",
   "execution_count": 190,
   "metadata": {},
   "outputs": [],
   "source": [
    "transcription = load_transcripcion('Ingenieria')"
   ]
  },
  {
   "cell_type": "code",
   "execution_count": 191,
   "metadata": {},
   "outputs": [],
   "source": [
    "palabras_utiles = valid_words(transcription)\n",
    "palabras_comunes = tabulate_common(transcription, 5 )\n"
   ]
  },
  {
   "cell_type": "code",
   "execution_count": 192,
   "metadata": {},
   "outputs": [
    {
     "data": {
      "text/html": [
       "<div>\n",
       "<style scoped>\n",
       "    .dataframe tbody tr th:only-of-type {\n",
       "        vertical-align: middle;\n",
       "    }\n",
       "\n",
       "    .dataframe tbody tr th {\n",
       "        vertical-align: top;\n",
       "    }\n",
       "\n",
       "    .dataframe thead th {\n",
       "        text-align: right;\n",
       "    }\n",
       "</style>\n",
       "<table border=\"1\" class=\"dataframe\">\n",
       "  <thead>\n",
       "    <tr style=\"text-align: right;\">\n",
       "      <th></th>\n",
       "      <th>valid_words</th>\n",
       "    </tr>\n",
       "  </thead>\n",
       "  <tbody>\n",
       "    <tr>\n",
       "      <td>francisco</td>\n",
       "      <td>1827</td>\n",
       "    </tr>\n",
       "    <tr>\n",
       "      <td>pablo</td>\n",
       "      <td>2913</td>\n",
       "    </tr>\n",
       "    <tr>\n",
       "      <td>calixto</td>\n",
       "      <td>1847</td>\n",
       "    </tr>\n",
       "    <tr>\n",
       "      <td>rodolfo</td>\n",
       "      <td>2171</td>\n",
       "    </tr>\n",
       "  </tbody>\n",
       "</table>\n",
       "</div>"
      ],
      "text/plain": [
       "           valid_words\n",
       "francisco         1827\n",
       "pablo             2913\n",
       "calixto           1847\n",
       "rodolfo           2171"
      ]
     },
     "execution_count": 192,
     "metadata": {},
     "output_type": "execute_result"
    }
   ],
   "source": [
    "palabras_utiles"
   ]
  },
  {
   "cell_type": "code",
   "execution_count": 193,
   "metadata": {},
   "outputs": [
    {
     "data": {
      "text/html": [
       "<div>\n",
       "<style scoped>\n",
       "    .dataframe tbody tr th:only-of-type {\n",
       "        vertical-align: middle;\n",
       "    }\n",
       "\n",
       "    .dataframe tbody tr th {\n",
       "        vertical-align: top;\n",
       "    }\n",
       "\n",
       "    .dataframe thead th {\n",
       "        text-align: right;\n",
       "    }\n",
       "</style>\n",
       "<table border=\"1\" class=\"dataframe\">\n",
       "  <thead>\n",
       "    <tr style=\"text-align: right;\">\n",
       "      <th></th>\n",
       "      <th>francisco</th>\n",
       "      <th>pablo</th>\n",
       "      <th>calixto</th>\n",
       "      <th>rodolfo</th>\n",
       "    </tr>\n",
       "  </thead>\n",
       "  <tbody>\n",
       "    <tr>\n",
       "      <td>0</td>\n",
       "      <td>(universidad, 60)</td>\n",
       "      <td>(universidad, 47)</td>\n",
       "      <td>(universidad, 90)</td>\n",
       "      <td>(universidad, 60)</td>\n",
       "    </tr>\n",
       "    <tr>\n",
       "      <td>1</td>\n",
       "      <td>(ingeniería, 25)</td>\n",
       "      <td>(facultad, 28)</td>\n",
       "      <td>(estudiantes, 26)</td>\n",
       "      <td>(ser, 22)</td>\n",
       "    </tr>\n",
       "    <tr>\n",
       "      <td>2</td>\n",
       "      <td>(hoy, 17)</td>\n",
       "      <td>(ingeniería, 24)</td>\n",
       "      <td>(calidad, 21)</td>\n",
       "      <td>(hacer, 21)</td>\n",
       "    </tr>\n",
       "    <tr>\n",
       "      <td>3</td>\n",
       "      <td>(estudiantes, 16)</td>\n",
       "      <td>(estudiantes, 23)</td>\n",
       "      <td>(rector, 19)</td>\n",
       "      <td>(tener, 21)</td>\n",
       "    </tr>\n",
       "    <tr>\n",
       "      <td>4</td>\n",
       "      <td>(supuesto, 16)</td>\n",
       "      <td>(profesores, 20)</td>\n",
       "      <td>(hacer, 19)</td>\n",
       "      <td>(magdalena, 18)</td>\n",
       "    </tr>\n",
       "  </tbody>\n",
       "</table>\n",
       "</div>"
      ],
      "text/plain": [
       "           francisco              pablo            calixto            rodolfo\n",
       "0  (universidad, 60)  (universidad, 47)  (universidad, 90)  (universidad, 60)\n",
       "1   (ingeniería, 25)     (facultad, 28)  (estudiantes, 26)          (ser, 22)\n",
       "2          (hoy, 17)   (ingeniería, 24)      (calidad, 21)        (hacer, 21)\n",
       "3  (estudiantes, 16)  (estudiantes, 23)       (rector, 19)        (tener, 21)\n",
       "4     (supuesto, 16)   (profesores, 20)        (hacer, 19)    (magdalena, 18)"
      ]
     },
     "execution_count": 193,
     "metadata": {},
     "output_type": "execute_result"
    }
   ],
   "source": [
    "palabras_comunes"
   ]
  },
  {
   "cell_type": "markdown",
   "metadata": {},
   "source": [
    "# Facultad de Ciencias de la Salud"
   ]
  },
  {
   "cell_type": "code",
   "execution_count": 194,
   "metadata": {},
   "outputs": [],
   "source": [
    "transcription = load_transcripcion('Salud')"
   ]
  },
  {
   "cell_type": "code",
   "execution_count": 195,
   "metadata": {},
   "outputs": [],
   "source": [
    "palabras_utiles = valid_words(transcription)\n",
    "palabras_comunes = tabulate_common(transcription, 5 )"
   ]
  },
  {
   "cell_type": "code",
   "execution_count": 196,
   "metadata": {},
   "outputs": [
    {
     "data": {
      "text/html": [
       "<div>\n",
       "<style scoped>\n",
       "    .dataframe tbody tr th:only-of-type {\n",
       "        vertical-align: middle;\n",
       "    }\n",
       "\n",
       "    .dataframe tbody tr th {\n",
       "        vertical-align: top;\n",
       "    }\n",
       "\n",
       "    .dataframe thead th {\n",
       "        text-align: right;\n",
       "    }\n",
       "</style>\n",
       "<table border=\"1\" class=\"dataframe\">\n",
       "  <thead>\n",
       "    <tr style=\"text-align: right;\">\n",
       "      <th></th>\n",
       "      <th>valid_words</th>\n",
       "    </tr>\n",
       "  </thead>\n",
       "  <tbody>\n",
       "    <tr>\n",
       "      <td>francisco</td>\n",
       "      <td>1752</td>\n",
       "    </tr>\n",
       "    <tr>\n",
       "      <td>pablo</td>\n",
       "      <td>2838</td>\n",
       "    </tr>\n",
       "    <tr>\n",
       "      <td>calixto</td>\n",
       "      <td>2110</td>\n",
       "    </tr>\n",
       "    <tr>\n",
       "      <td>rodolfo</td>\n",
       "      <td>2117</td>\n",
       "    </tr>\n",
       "  </tbody>\n",
       "</table>\n",
       "</div>"
      ],
      "text/plain": [
       "           valid_words\n",
       "francisco         1752\n",
       "pablo             2838\n",
       "calixto           2110\n",
       "rodolfo           2117"
      ]
     },
     "execution_count": 196,
     "metadata": {},
     "output_type": "execute_result"
    }
   ],
   "source": [
    "palabras_utiles"
   ]
  },
  {
   "cell_type": "code",
   "execution_count": 197,
   "metadata": {
    "scrolled": true
   },
   "outputs": [
    {
     "data": {
      "text/html": [
       "<div>\n",
       "<style scoped>\n",
       "    .dataframe tbody tr th:only-of-type {\n",
       "        vertical-align: middle;\n",
       "    }\n",
       "\n",
       "    .dataframe tbody tr th {\n",
       "        vertical-align: top;\n",
       "    }\n",
       "\n",
       "    .dataframe thead th {\n",
       "        text-align: right;\n",
       "    }\n",
       "</style>\n",
       "<table border=\"1\" class=\"dataframe\">\n",
       "  <thead>\n",
       "    <tr style=\"text-align: right;\">\n",
       "      <th></th>\n",
       "      <th>francisco</th>\n",
       "      <th>pablo</th>\n",
       "      <th>calixto</th>\n",
       "      <th>rodolfo</th>\n",
       "    </tr>\n",
       "  </thead>\n",
       "  <tbody>\n",
       "    <tr>\n",
       "      <td>0</td>\n",
       "      <td>(universidad, 37)</td>\n",
       "      <td>(universidad, 51)</td>\n",
       "      <td>(universidad, 95)</td>\n",
       "      <td>(universidad, 43)</td>\n",
       "    </tr>\n",
       "    <tr>\n",
       "      <td>1</td>\n",
       "      <td>(supuesto, 32)</td>\n",
       "      <td>(estudiantes, 36)</td>\n",
       "      <td>(estudiantes, 31)</td>\n",
       "      <td>(ser, 21)</td>\n",
       "    </tr>\n",
       "    <tr>\n",
       "      <td>2</td>\n",
       "      <td>(estudiantes, 28)</td>\n",
       "      <td>(salud, 32)</td>\n",
       "      <td>(hacer, 24)</td>\n",
       "      <td>(hacer, 18)</td>\n",
       "    </tr>\n",
       "    <tr>\n",
       "      <td>3</td>\n",
       "      <td>(programa, 21)</td>\n",
       "      <td>(si, 25)</td>\n",
       "      <td>(calidad, 19)</td>\n",
       "      <td>(magdalena, 17)</td>\n",
       "    </tr>\n",
       "    <tr>\n",
       "      <td>4</td>\n",
       "      <td>(ejemplo, 21)</td>\n",
       "      <td>(mil, 22)</td>\n",
       "      <td>(voy, 14)</td>\n",
       "      <td>(vamos, 15)</td>\n",
       "    </tr>\n",
       "  </tbody>\n",
       "</table>\n",
       "</div>"
      ],
      "text/plain": [
       "           francisco              pablo            calixto            rodolfo\n",
       "0  (universidad, 37)  (universidad, 51)  (universidad, 95)  (universidad, 43)\n",
       "1     (supuesto, 32)  (estudiantes, 36)  (estudiantes, 31)          (ser, 21)\n",
       "2  (estudiantes, 28)        (salud, 32)        (hacer, 24)        (hacer, 18)\n",
       "3     (programa, 21)           (si, 25)      (calidad, 19)    (magdalena, 17)\n",
       "4      (ejemplo, 21)          (mil, 22)          (voy, 14)        (vamos, 15)"
      ]
     },
     "execution_count": 197,
     "metadata": {},
     "output_type": "execute_result"
    }
   ],
   "source": [
    "palabras_comunes"
   ]
  },
  {
   "cell_type": "markdown",
   "metadata": {},
   "source": [
    "# Facultad de Humanidades"
   ]
  },
  {
   "cell_type": "code",
   "execution_count": 198,
   "metadata": {},
   "outputs": [],
   "source": [
    "transcription = load_transcripcion('Humanidades')"
   ]
  },
  {
   "cell_type": "code",
   "execution_count": 199,
   "metadata": {},
   "outputs": [],
   "source": [
    "palabras_comunes = tabulate_common(transcription, 5 )\n",
    "palabras_utiles = valid_words(transcription)"
   ]
  },
  {
   "cell_type": "code",
   "execution_count": 200,
   "metadata": {},
   "outputs": [
    {
     "data": {
      "text/html": [
       "<div>\n",
       "<style scoped>\n",
       "    .dataframe tbody tr th:only-of-type {\n",
       "        vertical-align: middle;\n",
       "    }\n",
       "\n",
       "    .dataframe tbody tr th {\n",
       "        vertical-align: top;\n",
       "    }\n",
       "\n",
       "    .dataframe thead th {\n",
       "        text-align: right;\n",
       "    }\n",
       "</style>\n",
       "<table border=\"1\" class=\"dataframe\">\n",
       "  <thead>\n",
       "    <tr style=\"text-align: right;\">\n",
       "      <th></th>\n",
       "      <th>valid_words</th>\n",
       "    </tr>\n",
       "  </thead>\n",
       "  <tbody>\n",
       "    <tr>\n",
       "      <td>francisco</td>\n",
       "      <td>1851</td>\n",
       "    </tr>\n",
       "    <tr>\n",
       "      <td>pablo</td>\n",
       "      <td>2577</td>\n",
       "    </tr>\n",
       "    <tr>\n",
       "      <td>calixto</td>\n",
       "      <td>2041</td>\n",
       "    </tr>\n",
       "    <tr>\n",
       "      <td>rodolfo</td>\n",
       "      <td>2416</td>\n",
       "    </tr>\n",
       "  </tbody>\n",
       "</table>\n",
       "</div>"
      ],
      "text/plain": [
       "           valid_words\n",
       "francisco         1851\n",
       "pablo             2577\n",
       "calixto           2041\n",
       "rodolfo           2416"
      ]
     },
     "execution_count": 200,
     "metadata": {},
     "output_type": "execute_result"
    }
   ],
   "source": [
    "palabras_utiles"
   ]
  },
  {
   "cell_type": "code",
   "execution_count": 201,
   "metadata": {},
   "outputs": [
    {
     "data": {
      "text/html": [
       "<div>\n",
       "<style scoped>\n",
       "    .dataframe tbody tr th:only-of-type {\n",
       "        vertical-align: middle;\n",
       "    }\n",
       "\n",
       "    .dataframe tbody tr th {\n",
       "        vertical-align: top;\n",
       "    }\n",
       "\n",
       "    .dataframe thead th {\n",
       "        text-align: right;\n",
       "    }\n",
       "</style>\n",
       "<table border=\"1\" class=\"dataframe\">\n",
       "  <thead>\n",
       "    <tr style=\"text-align: right;\">\n",
       "      <th></th>\n",
       "      <th>francisco</th>\n",
       "      <th>pablo</th>\n",
       "      <th>calixto</th>\n",
       "      <th>rodolfo</th>\n",
       "    </tr>\n",
       "  </thead>\n",
       "  <tbody>\n",
       "    <tr>\n",
       "      <td>0</td>\n",
       "      <td>(investigación, 27)</td>\n",
       "      <td>(universidad, 40)</td>\n",
       "      <td>(universidad, 83)</td>\n",
       "      <td>(universidad, 61)</td>\n",
       "    </tr>\n",
       "    <tr>\n",
       "      <td>1</td>\n",
       "      <td>(programa, 27)</td>\n",
       "      <td>(derecho, 28)</td>\n",
       "      <td>(rector, 21)</td>\n",
       "      <td>(tener, 23)</td>\n",
       "    </tr>\n",
       "    <tr>\n",
       "      <td>2</td>\n",
       "      <td>(estudiantes, 25)</td>\n",
       "      <td>(estudiantes, 27)</td>\n",
       "      <td>(propuesta, 17)</td>\n",
       "      <td>(estudiantes, 22)</td>\n",
       "    </tr>\n",
       "    <tr>\n",
       "      <td>3</td>\n",
       "      <td>(supuesto, 25)</td>\n",
       "      <td>(hoy, 23)</td>\n",
       "      <td>(entonces, 16)</td>\n",
       "      <td>(hacer, 21)</td>\n",
       "    </tr>\n",
       "    <tr>\n",
       "      <td>4</td>\n",
       "      <td>(universidad, 24)</td>\n",
       "      <td>(hacer, 17)</td>\n",
       "      <td>(facultad, 15)</td>\n",
       "      <td>(magdalena, 19)</td>\n",
       "    </tr>\n",
       "  </tbody>\n",
       "</table>\n",
       "</div>"
      ],
      "text/plain": [
       "             francisco              pablo            calixto  \\\n",
       "0  (investigación, 27)  (universidad, 40)  (universidad, 83)   \n",
       "1       (programa, 27)      (derecho, 28)       (rector, 21)   \n",
       "2    (estudiantes, 25)  (estudiantes, 27)    (propuesta, 17)   \n",
       "3       (supuesto, 25)          (hoy, 23)     (entonces, 16)   \n",
       "4    (universidad, 24)        (hacer, 17)     (facultad, 15)   \n",
       "\n",
       "             rodolfo  \n",
       "0  (universidad, 61)  \n",
       "1        (tener, 23)  \n",
       "2  (estudiantes, 22)  \n",
       "3        (hacer, 21)  \n",
       "4    (magdalena, 19)  "
      ]
     },
     "execution_count": 201,
     "metadata": {},
     "output_type": "execute_result"
    }
   ],
   "source": [
    "palabras_comunes"
   ]
  }
 ],
 "metadata": {
  "kernelspec": {
   "display_name": "Python 3",
   "language": "python",
   "name": "python3"
  },
  "language_info": {
   "codemirror_mode": {
    "name": "ipython",
    "version": 3
   },
   "file_extension": ".py",
   "mimetype": "text/x-python",
   "name": "python",
   "nbconvert_exporter": "python",
   "pygments_lexer": "ipython3",
   "version": "3.7.4"
  }
 },
 "nbformat": 4,
 "nbformat_minor": 2
}
