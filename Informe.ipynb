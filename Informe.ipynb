{
 "cells": [
  {
   "cell_type": "code",
   "execution_count": 80,
   "metadata": {},
   "outputs": [
    {
     "name": "stdout",
     "output_type": "stream",
     "text": [
      "Requirement already satisfied: nltk in c:\\users\\wwrik\\anaconda3\\lib\\site-packages (3.4.5)\n",
      "Requirement already satisfied: six in c:\\users\\wwrik\\anaconda3\\lib\\site-packages (from nltk) (1.12.0)\n",
      "Note: you may need to restart the kernel to use updated packages.\n"
     ]
    }
   ],
   "source": [
    "pip install nltk"
   ]
  },
  {
   "cell_type": "code",
   "execution_count": 1,
   "metadata": {},
   "outputs": [],
   "source": [
    "import pandas as pd\n",
    "import nltk \n",
    "from nltk.corpus import stopwords\n",
    "import collections\n",
    "import sys\n",
    "import codecs\n",
    "n_palabras_comunes = 10\n",
    "candidates = ['francisco','pablo','calixto','rodolfo',]\n",
    "pd.set_option(\"max_rows\", None)"
   ]
  },
  {
   "cell_type": "code",
   "execution_count": 2,
   "metadata": {},
   "outputs": [],
   "source": [
    "stop_words = set(stopwords.words('spanish'))"
   ]
  },
  {
   "cell_type": "code",
   "execution_count": 3,
   "metadata": {},
   "outputs": [],
   "source": [
    "def write_file(route, transcription, name):\n",
    "    file = codecs.open(f'{route}/Transcripcion/{name}.txt',\"w\",\"utf-8\")#write mode \n",
    "    file.write(transcription) \n",
    "    file.close() "
   ]
  },
  {
   "cell_type": "code",
   "execution_count": 4,
   "metadata": {},
   "outputs": [],
   "source": [
    "def load_data(route):\n",
    "    entities = pd.read_json(route)\n",
    "    data = pd.DataFrame([[i[\"Text\"], i[\"Type\"], i[\"Score\"]] for i in entities[\"Entities\"]]\n",
    "                            , columns=['Entitie', 'Type', 'Score'])\n",
    "    return data.sort_values('Score', ascending=False).reset_index().drop(columns=['index'])"
   ]
  },
  {
   "cell_type": "code",
   "execution_count": 5,
   "metadata": {},
   "outputs": [],
   "source": [
    "def load_transcripcion(facultad):\n",
    "    files = [pd.read_json(f'{facultad}/Subtitulos/{name}.json', encoding='utf-8') for name in candidates]\n",
    "    transcription = [sub.loc['transcripts']['results'][0]['transcript'] for sub in files]\n",
    "#     for i in range(len(transcription)):\n",
    "#         write_file(facultad, transcription[i],candidates[i])\n",
    "    return pd.DataFrame(transcription, index= candidates, columns= ['transcription'])"
   ]
  },
  {
   "cell_type": "code",
   "execution_count": 6,
   "metadata": {},
   "outputs": [],
   "source": [
    "def load_discurs(data):\n",
    "    text = pd.DataFrame(data.lower().replace('.', \"\").replace(',',\"\").split(' '))\n",
    "    return text"
   ]
  },
  {
   "cell_type": "code",
   "execution_count": 7,
   "metadata": {},
   "outputs": [],
   "source": [
    "def process_most_common(df, name, n):\n",
    "    return collections.Counter(df.loc[name, 'valid_words']).most_common(n)"
   ]
  },
  {
   "cell_type": "code",
   "execution_count": 8,
   "metadata": {},
   "outputs": [],
   "source": [
    "def valid_words(df):\n",
    "    tokens = tokenize_column(df, 'transcription')\n",
    "    valid_words = pd.DataFrame([len(tokens[i]) for i in range(len(candidates))], index=candidates, columns=['valid_words'])\n",
    "    return valid_words"
   ]
  },
  {
   "cell_type": "code",
   "execution_count": 9,
   "metadata": {},
   "outputs": [],
   "source": [
    "def tabulate_common(df,n):\n",
    "    df['valid_words'] = tokenize_column(df, 'transcription')\n",
    "    most_common = [process_most_common(df, name, n) for name in candidates]\n",
    "    most_common =  pd.DataFrame([i for i in most_common ])\n",
    "    most_common= most_common.transpose().rename(columns={ i:candidates[i] for i in range(4)})\n",
    "    return most_common"
   ]
  },
  {
   "cell_type": "code",
   "execution_count": 10,
   "metadata": {},
   "outputs": [],
   "source": [
    "def tokenize_column(df, column_name):\n",
    "    return(df\n",
    "            .dropna()\n",
    "            .apply(lambda row: nltk.word_tokenize(row[column_name]), axis=1)\n",
    "            .apply(lambda tokens: list(filter(lambda token: token.isalpha(),tokens)))\n",
    "            .apply(lambda tokens: list(map(lambda token: token.lower(), tokens)))\n",
    "            .apply(lambda word_list: list(filter(lambda word: word not in stop_words, word_list)))       \n",
    "    )\n"
   ]
  },
  {
   "cell_type": "code",
   "execution_count": 11,
   "metadata": {},
   "outputs": [],
   "source": [
    "def load_sentiment(route):\n",
    "    all_sentiment = [pd.read_json(f'{route}/Analisis_de_Sentimiento/{name}.json') for name in candidates]\n",
    "    columns=['Mixed','Negative','Neutral','Positive']\n",
    "    sentiment = pd.DataFrame([], columns=columns, index=candidates)\n",
    "    for i in range(len(all_sentiment)):\n",
    "        temp = pd.DataFrame([])\n",
    "        for g in range(all_sentiment[i]['Result'].size):\n",
    "            temp = temp.append([all_sentiment[i]['Result'][g]['SentimentScore']],  ignore_index=True)\n",
    "        sentiment.loc[candidates[i]] = temp.mean()\n",
    "    return sentiment"
   ]
  },
  {
   "cell_type": "markdown",
   "metadata": {},
   "source": [
    "# Facultad de Ingeniería"
   ]
  },
  {
   "cell_type": "code",
   "execution_count": 12,
   "metadata": {},
   "outputs": [],
   "source": [
    "transcription = load_transcripcion('Ingenieria')"
   ]
  },
  {
   "cell_type": "code",
   "execution_count": 13,
   "metadata": {},
   "outputs": [],
   "source": [
    "palabras_utiles = valid_words(transcription)\n",
    "palabras_comunes = tabulate_common(transcription, n_palabras_comunes)\n",
    "sentiment = load_sentiment('Ingenieria')"
   ]
  },
  {
   "cell_type": "code",
   "execution_count": 14,
   "metadata": {},
   "outputs": [
    {
     "data": {
      "text/html": [
       "<div>\n",
       "<style scoped>\n",
       "    .dataframe tbody tr th:only-of-type {\n",
       "        vertical-align: middle;\n",
       "    }\n",
       "\n",
       "    .dataframe tbody tr th {\n",
       "        vertical-align: top;\n",
       "    }\n",
       "\n",
       "    .dataframe thead th {\n",
       "        text-align: right;\n",
       "    }\n",
       "</style>\n",
       "<table border=\"1\" class=\"dataframe\">\n",
       "  <thead>\n",
       "    <tr style=\"text-align: right;\">\n",
       "      <th></th>\n",
       "      <th>valid_words</th>\n",
       "    </tr>\n",
       "  </thead>\n",
       "  <tbody>\n",
       "    <tr>\n",
       "      <td>francisco</td>\n",
       "      <td>1827</td>\n",
       "    </tr>\n",
       "    <tr>\n",
       "      <td>pablo</td>\n",
       "      <td>2913</td>\n",
       "    </tr>\n",
       "    <tr>\n",
       "      <td>calixto</td>\n",
       "      <td>1847</td>\n",
       "    </tr>\n",
       "    <tr>\n",
       "      <td>rodolfo</td>\n",
       "      <td>2171</td>\n",
       "    </tr>\n",
       "  </tbody>\n",
       "</table>\n",
       "</div>"
      ],
      "text/plain": [
       "           valid_words\n",
       "francisco         1827\n",
       "pablo             2913\n",
       "calixto           1847\n",
       "rodolfo           2171"
      ]
     },
     "execution_count": 14,
     "metadata": {},
     "output_type": "execute_result"
    }
   ],
   "source": [
    "palabras_utiles"
   ]
  },
  {
   "cell_type": "code",
   "execution_count": 15,
   "metadata": {
    "scrolled": true
   },
   "outputs": [
    {
     "data": {
      "text/html": [
       "<div>\n",
       "<style scoped>\n",
       "    .dataframe tbody tr th:only-of-type {\n",
       "        vertical-align: middle;\n",
       "    }\n",
       "\n",
       "    .dataframe tbody tr th {\n",
       "        vertical-align: top;\n",
       "    }\n",
       "\n",
       "    .dataframe thead th {\n",
       "        text-align: right;\n",
       "    }\n",
       "</style>\n",
       "<table border=\"1\" class=\"dataframe\">\n",
       "  <thead>\n",
       "    <tr style=\"text-align: right;\">\n",
       "      <th></th>\n",
       "      <th>francisco</th>\n",
       "      <th>pablo</th>\n",
       "      <th>calixto</th>\n",
       "      <th>rodolfo</th>\n",
       "    </tr>\n",
       "  </thead>\n",
       "  <tbody>\n",
       "    <tr>\n",
       "      <td>0</td>\n",
       "      <td>(universidad, 60)</td>\n",
       "      <td>(universidad, 47)</td>\n",
       "      <td>(universidad, 90)</td>\n",
       "      <td>(universidad, 60)</td>\n",
       "    </tr>\n",
       "    <tr>\n",
       "      <td>1</td>\n",
       "      <td>(ingeniería, 25)</td>\n",
       "      <td>(facultad, 28)</td>\n",
       "      <td>(estudiantes, 26)</td>\n",
       "      <td>(ser, 22)</td>\n",
       "    </tr>\n",
       "    <tr>\n",
       "      <td>2</td>\n",
       "      <td>(hoy, 17)</td>\n",
       "      <td>(ingeniería, 24)</td>\n",
       "      <td>(calidad, 21)</td>\n",
       "      <td>(hacer, 21)</td>\n",
       "    </tr>\n",
       "    <tr>\n",
       "      <td>3</td>\n",
       "      <td>(estudiantes, 16)</td>\n",
       "      <td>(estudiantes, 23)</td>\n",
       "      <td>(rector, 19)</td>\n",
       "      <td>(tener, 21)</td>\n",
       "    </tr>\n",
       "    <tr>\n",
       "      <td>4</td>\n",
       "      <td>(supuesto, 16)</td>\n",
       "      <td>(profesores, 20)</td>\n",
       "      <td>(hacer, 19)</td>\n",
       "      <td>(magdalena, 18)</td>\n",
       "    </tr>\n",
       "    <tr>\n",
       "      <td>5</td>\n",
       "      <td>(programas, 15)</td>\n",
       "      <td>(dos, 19)</td>\n",
       "      <td>(propuesta, 15)</td>\n",
       "      <td>(van, 17)</td>\n",
       "    </tr>\n",
       "    <tr>\n",
       "      <td>6</td>\n",
       "      <td>(posibilidad, 15)</td>\n",
       "      <td>(hoy, 18)</td>\n",
       "      <td>(magdalena, 15)</td>\n",
       "      <td>(vamos, 16)</td>\n",
       "    </tr>\n",
       "    <tr>\n",
       "      <td>7</td>\n",
       "      <td>(ejemplo, 13)</td>\n",
       "      <td>(profesor, 18)</td>\n",
       "      <td>(recursos, 15)</td>\n",
       "      <td>(poder, 15)</td>\n",
       "    </tr>\n",
       "    <tr>\n",
       "      <td>8</td>\n",
       "      <td>(acreditación, 13)</td>\n",
       "      <td>(programa, 18)</td>\n",
       "      <td>(educativa, 13)</td>\n",
       "      <td>(momento, 13)</td>\n",
       "    </tr>\n",
       "    <tr>\n",
       "      <td>9</td>\n",
       "      <td>(tema, 13)</td>\n",
       "      <td>(mil, 18)</td>\n",
       "      <td>(unidos, 12)</td>\n",
       "      <td>(importante, 12)</td>\n",
       "    </tr>\n",
       "  </tbody>\n",
       "</table>\n",
       "</div>"
      ],
      "text/plain": [
       "            francisco              pablo            calixto            rodolfo\n",
       "0   (universidad, 60)  (universidad, 47)  (universidad, 90)  (universidad, 60)\n",
       "1    (ingeniería, 25)     (facultad, 28)  (estudiantes, 26)          (ser, 22)\n",
       "2           (hoy, 17)   (ingeniería, 24)      (calidad, 21)        (hacer, 21)\n",
       "3   (estudiantes, 16)  (estudiantes, 23)       (rector, 19)        (tener, 21)\n",
       "4      (supuesto, 16)   (profesores, 20)        (hacer, 19)    (magdalena, 18)\n",
       "5     (programas, 15)          (dos, 19)    (propuesta, 15)          (van, 17)\n",
       "6   (posibilidad, 15)          (hoy, 18)    (magdalena, 15)        (vamos, 16)\n",
       "7       (ejemplo, 13)     (profesor, 18)     (recursos, 15)        (poder, 15)\n",
       "8  (acreditación, 13)     (programa, 18)    (educativa, 13)      (momento, 13)\n",
       "9          (tema, 13)          (mil, 18)       (unidos, 12)   (importante, 12)"
      ]
     },
     "execution_count": 15,
     "metadata": {},
     "output_type": "execute_result"
    }
   ],
   "source": [
    "palabras_comunes"
   ]
  },
  {
   "cell_type": "code",
   "execution_count": 16,
   "metadata": {},
   "outputs": [
    {
     "data": {
      "text/html": [
       "<div>\n",
       "<style scoped>\n",
       "    .dataframe tbody tr th:only-of-type {\n",
       "        vertical-align: middle;\n",
       "    }\n",
       "\n",
       "    .dataframe tbody tr th {\n",
       "        vertical-align: top;\n",
       "    }\n",
       "\n",
       "    .dataframe thead th {\n",
       "        text-align: right;\n",
       "    }\n",
       "</style>\n",
       "<table border=\"1\" class=\"dataframe\">\n",
       "  <thead>\n",
       "    <tr style=\"text-align: right;\">\n",
       "      <th></th>\n",
       "      <th>Mixed</th>\n",
       "      <th>Negative</th>\n",
       "      <th>Neutral</th>\n",
       "      <th>Positive</th>\n",
       "    </tr>\n",
       "  </thead>\n",
       "  <tbody>\n",
       "    <tr>\n",
       "      <td>francisco</td>\n",
       "      <td>0.125788</td>\n",
       "      <td>0.0170564</td>\n",
       "      <td>0.614211</td>\n",
       "      <td>0.242945</td>\n",
       "    </tr>\n",
       "    <tr>\n",
       "      <td>pablo</td>\n",
       "      <td>0.0716548</td>\n",
       "      <td>0.0559598</td>\n",
       "      <td>0.531929</td>\n",
       "      <td>0.340457</td>\n",
       "    </tr>\n",
       "    <tr>\n",
       "      <td>calixto</td>\n",
       "      <td>0.0140588</td>\n",
       "      <td>0.0196071</td>\n",
       "      <td>0.652026</td>\n",
       "      <td>0.314308</td>\n",
       "    </tr>\n",
       "    <tr>\n",
       "      <td>rodolfo</td>\n",
       "      <td>0.0145522</td>\n",
       "      <td>0.0852771</td>\n",
       "      <td>0.586234</td>\n",
       "      <td>0.313937</td>\n",
       "    </tr>\n",
       "  </tbody>\n",
       "</table>\n",
       "</div>"
      ],
      "text/plain": [
       "               Mixed   Negative   Neutral  Positive\n",
       "francisco   0.125788  0.0170564  0.614211  0.242945\n",
       "pablo      0.0716548  0.0559598  0.531929  0.340457\n",
       "calixto    0.0140588  0.0196071  0.652026  0.314308\n",
       "rodolfo    0.0145522  0.0852771  0.586234  0.313937"
      ]
     },
     "execution_count": 16,
     "metadata": {},
     "output_type": "execute_result"
    }
   ],
   "source": [
    "sentiment"
   ]
  },
  {
   "cell_type": "markdown",
   "metadata": {},
   "source": [
    "# Facultad de Ciencias de la Salud"
   ]
  },
  {
   "cell_type": "code",
   "execution_count": 17,
   "metadata": {},
   "outputs": [],
   "source": [
    "transcription = load_transcripcion('Salud')"
   ]
  },
  {
   "cell_type": "code",
   "execution_count": 18,
   "metadata": {},
   "outputs": [],
   "source": [
    "palabras_utiles = valid_words(transcription)\n",
    "palabras_comunes = tabulate_common(transcription, n_palabras_comunes)\n",
    "sentiment = load_sentiment('Salud')"
   ]
  },
  {
   "cell_type": "code",
   "execution_count": 19,
   "metadata": {},
   "outputs": [
    {
     "data": {
      "text/html": [
       "<div>\n",
       "<style scoped>\n",
       "    .dataframe tbody tr th:only-of-type {\n",
       "        vertical-align: middle;\n",
       "    }\n",
       "\n",
       "    .dataframe tbody tr th {\n",
       "        vertical-align: top;\n",
       "    }\n",
       "\n",
       "    .dataframe thead th {\n",
       "        text-align: right;\n",
       "    }\n",
       "</style>\n",
       "<table border=\"1\" class=\"dataframe\">\n",
       "  <thead>\n",
       "    <tr style=\"text-align: right;\">\n",
       "      <th></th>\n",
       "      <th>valid_words</th>\n",
       "    </tr>\n",
       "  </thead>\n",
       "  <tbody>\n",
       "    <tr>\n",
       "      <td>francisco</td>\n",
       "      <td>1752</td>\n",
       "    </tr>\n",
       "    <tr>\n",
       "      <td>pablo</td>\n",
       "      <td>2838</td>\n",
       "    </tr>\n",
       "    <tr>\n",
       "      <td>calixto</td>\n",
       "      <td>2110</td>\n",
       "    </tr>\n",
       "    <tr>\n",
       "      <td>rodolfo</td>\n",
       "      <td>2117</td>\n",
       "    </tr>\n",
       "  </tbody>\n",
       "</table>\n",
       "</div>"
      ],
      "text/plain": [
       "           valid_words\n",
       "francisco         1752\n",
       "pablo             2838\n",
       "calixto           2110\n",
       "rodolfo           2117"
      ]
     },
     "execution_count": 19,
     "metadata": {},
     "output_type": "execute_result"
    }
   ],
   "source": [
    "palabras_utiles"
   ]
  },
  {
   "cell_type": "code",
   "execution_count": 20,
   "metadata": {
    "scrolled": true
   },
   "outputs": [
    {
     "data": {
      "text/html": [
       "<div>\n",
       "<style scoped>\n",
       "    .dataframe tbody tr th:only-of-type {\n",
       "        vertical-align: middle;\n",
       "    }\n",
       "\n",
       "    .dataframe tbody tr th {\n",
       "        vertical-align: top;\n",
       "    }\n",
       "\n",
       "    .dataframe thead th {\n",
       "        text-align: right;\n",
       "    }\n",
       "</style>\n",
       "<table border=\"1\" class=\"dataframe\">\n",
       "  <thead>\n",
       "    <tr style=\"text-align: right;\">\n",
       "      <th></th>\n",
       "      <th>francisco</th>\n",
       "      <th>pablo</th>\n",
       "      <th>calixto</th>\n",
       "      <th>rodolfo</th>\n",
       "    </tr>\n",
       "  </thead>\n",
       "  <tbody>\n",
       "    <tr>\n",
       "      <td>0</td>\n",
       "      <td>(universidad, 37)</td>\n",
       "      <td>(universidad, 51)</td>\n",
       "      <td>(universidad, 95)</td>\n",
       "      <td>(universidad, 43)</td>\n",
       "    </tr>\n",
       "    <tr>\n",
       "      <td>1</td>\n",
       "      <td>(supuesto, 32)</td>\n",
       "      <td>(estudiantes, 36)</td>\n",
       "      <td>(estudiantes, 31)</td>\n",
       "      <td>(ser, 21)</td>\n",
       "    </tr>\n",
       "    <tr>\n",
       "      <td>2</td>\n",
       "      <td>(estudiantes, 28)</td>\n",
       "      <td>(salud, 32)</td>\n",
       "      <td>(hacer, 24)</td>\n",
       "      <td>(hacer, 18)</td>\n",
       "    </tr>\n",
       "    <tr>\n",
       "      <td>3</td>\n",
       "      <td>(programa, 21)</td>\n",
       "      <td>(si, 25)</td>\n",
       "      <td>(calidad, 19)</td>\n",
       "      <td>(magdalena, 17)</td>\n",
       "    </tr>\n",
       "    <tr>\n",
       "      <td>4</td>\n",
       "      <td>(ejemplo, 21)</td>\n",
       "      <td>(mil, 22)</td>\n",
       "      <td>(voy, 14)</td>\n",
       "      <td>(vamos, 15)</td>\n",
       "    </tr>\n",
       "    <tr>\n",
       "      <td>5</td>\n",
       "      <td>(posibilidad, 17)</td>\n",
       "      <td>(dos, 20)</td>\n",
       "      <td>(si, 14)</td>\n",
       "      <td>(proyecto, 14)</td>\n",
       "    </tr>\n",
       "    <tr>\n",
       "      <td>6</td>\n",
       "      <td>(institución, 16)</td>\n",
       "      <td>(profesores, 18)</td>\n",
       "      <td>(rector, 14)</td>\n",
       "      <td>(nivel, 14)</td>\n",
       "    </tr>\n",
       "    <tr>\n",
       "      <td>7</td>\n",
       "      <td>(acreditación, 15)</td>\n",
       "      <td>(programas, 18)</td>\n",
       "      <td>(profesores, 13)</td>\n",
       "      <td>(hecho, 13)</td>\n",
       "    </tr>\n",
       "    <tr>\n",
       "      <td>8</td>\n",
       "      <td>(hoy, 15)</td>\n",
       "      <td>(hoy, 18)</td>\n",
       "      <td>(trabajar, 13)</td>\n",
       "      <td>(salud, 13)</td>\n",
       "    </tr>\n",
       "    <tr>\n",
       "      <td>9</td>\n",
       "      <td>(formación, 15)</td>\n",
       "      <td>(programa, 17)</td>\n",
       "      <td>(programas, 12)</td>\n",
       "      <td>(facultad, 12)</td>\n",
       "    </tr>\n",
       "  </tbody>\n",
       "</table>\n",
       "</div>"
      ],
      "text/plain": [
       "            francisco              pablo            calixto            rodolfo\n",
       "0   (universidad, 37)  (universidad, 51)  (universidad, 95)  (universidad, 43)\n",
       "1      (supuesto, 32)  (estudiantes, 36)  (estudiantes, 31)          (ser, 21)\n",
       "2   (estudiantes, 28)        (salud, 32)        (hacer, 24)        (hacer, 18)\n",
       "3      (programa, 21)           (si, 25)      (calidad, 19)    (magdalena, 17)\n",
       "4       (ejemplo, 21)          (mil, 22)          (voy, 14)        (vamos, 15)\n",
       "5   (posibilidad, 17)          (dos, 20)           (si, 14)     (proyecto, 14)\n",
       "6   (institución, 16)   (profesores, 18)       (rector, 14)        (nivel, 14)\n",
       "7  (acreditación, 15)    (programas, 18)   (profesores, 13)        (hecho, 13)\n",
       "8           (hoy, 15)          (hoy, 18)     (trabajar, 13)        (salud, 13)\n",
       "9     (formación, 15)     (programa, 17)    (programas, 12)     (facultad, 12)"
      ]
     },
     "execution_count": 20,
     "metadata": {},
     "output_type": "execute_result"
    }
   ],
   "source": [
    "palabras_comunes"
   ]
  },
  {
   "cell_type": "code",
   "execution_count": 21,
   "metadata": {},
   "outputs": [
    {
     "data": {
      "text/html": [
       "<div>\n",
       "<style scoped>\n",
       "    .dataframe tbody tr th:only-of-type {\n",
       "        vertical-align: middle;\n",
       "    }\n",
       "\n",
       "    .dataframe tbody tr th {\n",
       "        vertical-align: top;\n",
       "    }\n",
       "\n",
       "    .dataframe thead th {\n",
       "        text-align: right;\n",
       "    }\n",
       "</style>\n",
       "<table border=\"1\" class=\"dataframe\">\n",
       "  <thead>\n",
       "    <tr style=\"text-align: right;\">\n",
       "      <th></th>\n",
       "      <th>Mixed</th>\n",
       "      <th>Negative</th>\n",
       "      <th>Neutral</th>\n",
       "      <th>Positive</th>\n",
       "    </tr>\n",
       "  </thead>\n",
       "  <tbody>\n",
       "    <tr>\n",
       "      <td>francisco</td>\n",
       "      <td>0.00451146</td>\n",
       "      <td>0.0715566</td>\n",
       "      <td>0.706366</td>\n",
       "      <td>0.217566</td>\n",
       "    </tr>\n",
       "    <tr>\n",
       "      <td>pablo</td>\n",
       "      <td>0.0313051</td>\n",
       "      <td>0.0642491</td>\n",
       "      <td>0.617822</td>\n",
       "      <td>0.286623</td>\n",
       "    </tr>\n",
       "    <tr>\n",
       "      <td>calixto</td>\n",
       "      <td>0.0169883</td>\n",
       "      <td>0.0197693</td>\n",
       "      <td>0.498912</td>\n",
       "      <td>0.46433</td>\n",
       "    </tr>\n",
       "    <tr>\n",
       "      <td>rodolfo</td>\n",
       "      <td>3.34195e-05</td>\n",
       "      <td>0.00240752</td>\n",
       "      <td>0.769474</td>\n",
       "      <td>0.228085</td>\n",
       "    </tr>\n",
       "  </tbody>\n",
       "</table>\n",
       "</div>"
      ],
      "text/plain": [
       "                 Mixed    Negative   Neutral  Positive\n",
       "francisco   0.00451146   0.0715566  0.706366  0.217566\n",
       "pablo        0.0313051   0.0642491  0.617822  0.286623\n",
       "calixto      0.0169883   0.0197693  0.498912   0.46433\n",
       "rodolfo    3.34195e-05  0.00240752  0.769474  0.228085"
      ]
     },
     "execution_count": 21,
     "metadata": {},
     "output_type": "execute_result"
    }
   ],
   "source": [
    "sentiment"
   ]
  },
  {
   "cell_type": "markdown",
   "metadata": {},
   "source": [
    "# Facultad de Humanidades"
   ]
  },
  {
   "cell_type": "code",
   "execution_count": 22,
   "metadata": {},
   "outputs": [],
   "source": [
    "transcription = load_transcripcion('Humanidades')"
   ]
  },
  {
   "cell_type": "code",
   "execution_count": 23,
   "metadata": {},
   "outputs": [],
   "source": [
    "palabras_comunes = tabulate_common(transcription, n_palabras_comunes )\n",
    "palabras_utiles = valid_words(transcription)\n",
    "sentiment = load_sentiment('Humanidades')"
   ]
  },
  {
   "cell_type": "code",
   "execution_count": 24,
   "metadata": {},
   "outputs": [
    {
     "data": {
      "text/html": [
       "<div>\n",
       "<style scoped>\n",
       "    .dataframe tbody tr th:only-of-type {\n",
       "        vertical-align: middle;\n",
       "    }\n",
       "\n",
       "    .dataframe tbody tr th {\n",
       "        vertical-align: top;\n",
       "    }\n",
       "\n",
       "    .dataframe thead th {\n",
       "        text-align: right;\n",
       "    }\n",
       "</style>\n",
       "<table border=\"1\" class=\"dataframe\">\n",
       "  <thead>\n",
       "    <tr style=\"text-align: right;\">\n",
       "      <th></th>\n",
       "      <th>valid_words</th>\n",
       "    </tr>\n",
       "  </thead>\n",
       "  <tbody>\n",
       "    <tr>\n",
       "      <td>francisco</td>\n",
       "      <td>1851</td>\n",
       "    </tr>\n",
       "    <tr>\n",
       "      <td>pablo</td>\n",
       "      <td>2577</td>\n",
       "    </tr>\n",
       "    <tr>\n",
       "      <td>calixto</td>\n",
       "      <td>2041</td>\n",
       "    </tr>\n",
       "    <tr>\n",
       "      <td>rodolfo</td>\n",
       "      <td>2416</td>\n",
       "    </tr>\n",
       "  </tbody>\n",
       "</table>\n",
       "</div>"
      ],
      "text/plain": [
       "           valid_words\n",
       "francisco         1851\n",
       "pablo             2577\n",
       "calixto           2041\n",
       "rodolfo           2416"
      ]
     },
     "execution_count": 24,
     "metadata": {},
     "output_type": "execute_result"
    }
   ],
   "source": [
    "palabras_utiles"
   ]
  },
  {
   "cell_type": "code",
   "execution_count": 25,
   "metadata": {},
   "outputs": [
    {
     "data": {
      "text/html": [
       "<div>\n",
       "<style scoped>\n",
       "    .dataframe tbody tr th:only-of-type {\n",
       "        vertical-align: middle;\n",
       "    }\n",
       "\n",
       "    .dataframe tbody tr th {\n",
       "        vertical-align: top;\n",
       "    }\n",
       "\n",
       "    .dataframe thead th {\n",
       "        text-align: right;\n",
       "    }\n",
       "</style>\n",
       "<table border=\"1\" class=\"dataframe\">\n",
       "  <thead>\n",
       "    <tr style=\"text-align: right;\">\n",
       "      <th></th>\n",
       "      <th>francisco</th>\n",
       "      <th>pablo</th>\n",
       "      <th>calixto</th>\n",
       "      <th>rodolfo</th>\n",
       "    </tr>\n",
       "  </thead>\n",
       "  <tbody>\n",
       "    <tr>\n",
       "      <td>0</td>\n",
       "      <td>(investigación, 27)</td>\n",
       "      <td>(universidad, 40)</td>\n",
       "      <td>(universidad, 83)</td>\n",
       "      <td>(universidad, 61)</td>\n",
       "    </tr>\n",
       "    <tr>\n",
       "      <td>1</td>\n",
       "      <td>(programa, 27)</td>\n",
       "      <td>(derecho, 28)</td>\n",
       "      <td>(rector, 21)</td>\n",
       "      <td>(tener, 23)</td>\n",
       "    </tr>\n",
       "    <tr>\n",
       "      <td>2</td>\n",
       "      <td>(estudiantes, 25)</td>\n",
       "      <td>(estudiantes, 27)</td>\n",
       "      <td>(propuesta, 17)</td>\n",
       "      <td>(estudiantes, 22)</td>\n",
       "    </tr>\n",
       "    <tr>\n",
       "      <td>3</td>\n",
       "      <td>(supuesto, 25)</td>\n",
       "      <td>(hoy, 23)</td>\n",
       "      <td>(entonces, 16)</td>\n",
       "      <td>(hacer, 21)</td>\n",
       "    </tr>\n",
       "    <tr>\n",
       "      <td>4</td>\n",
       "      <td>(universidad, 24)</td>\n",
       "      <td>(hacer, 17)</td>\n",
       "      <td>(facultad, 15)</td>\n",
       "      <td>(magdalena, 19)</td>\n",
       "    </tr>\n",
       "    <tr>\n",
       "      <td>5</td>\n",
       "      <td>(tema, 20)</td>\n",
       "      <td>(ser, 15)</td>\n",
       "      <td>(va, 15)</td>\n",
       "      <td>(vamos, 19)</td>\n",
       "    </tr>\n",
       "    <tr>\n",
       "      <td>6</td>\n",
       "      <td>(posibilidad, 19)</td>\n",
       "      <td>(dos, 15)</td>\n",
       "      <td>(estudiantes, 14)</td>\n",
       "      <td>(importante, 17)</td>\n",
       "    </tr>\n",
       "    <tr>\n",
       "      <td>7</td>\n",
       "      <td>(puedan, 17)</td>\n",
       "      <td>(profesores, 14)</td>\n",
       "      <td>(hacer, 13)</td>\n",
       "      <td>(ser, 17)</td>\n",
       "    </tr>\n",
       "    <tr>\n",
       "      <td>8</td>\n",
       "      <td>(hacer, 14)</td>\n",
       "      <td>(cuatro, 14)</td>\n",
       "      <td>(ser, 13)</td>\n",
       "      <td>(nivel, 17)</td>\n",
       "    </tr>\n",
       "    <tr>\n",
       "      <td>9</td>\n",
       "      <td>(tener, 14)</td>\n",
       "      <td>(cine, 14)</td>\n",
       "      <td>(aquí, 12)</td>\n",
       "      <td>(van, 15)</td>\n",
       "    </tr>\n",
       "  </tbody>\n",
       "</table>\n",
       "</div>"
      ],
      "text/plain": [
       "             francisco              pablo            calixto  \\\n",
       "0  (investigación, 27)  (universidad, 40)  (universidad, 83)   \n",
       "1       (programa, 27)      (derecho, 28)       (rector, 21)   \n",
       "2    (estudiantes, 25)  (estudiantes, 27)    (propuesta, 17)   \n",
       "3       (supuesto, 25)          (hoy, 23)     (entonces, 16)   \n",
       "4    (universidad, 24)        (hacer, 17)     (facultad, 15)   \n",
       "5           (tema, 20)          (ser, 15)           (va, 15)   \n",
       "6    (posibilidad, 19)          (dos, 15)  (estudiantes, 14)   \n",
       "7         (puedan, 17)   (profesores, 14)        (hacer, 13)   \n",
       "8          (hacer, 14)       (cuatro, 14)          (ser, 13)   \n",
       "9          (tener, 14)         (cine, 14)         (aquí, 12)   \n",
       "\n",
       "             rodolfo  \n",
       "0  (universidad, 61)  \n",
       "1        (tener, 23)  \n",
       "2  (estudiantes, 22)  \n",
       "3        (hacer, 21)  \n",
       "4    (magdalena, 19)  \n",
       "5        (vamos, 19)  \n",
       "6   (importante, 17)  \n",
       "7          (ser, 17)  \n",
       "8        (nivel, 17)  \n",
       "9          (van, 15)  "
      ]
     },
     "execution_count": 25,
     "metadata": {},
     "output_type": "execute_result"
    }
   ],
   "source": [
    "palabras_comunes"
   ]
  },
  {
   "cell_type": "code",
   "execution_count": 26,
   "metadata": {},
   "outputs": [
    {
     "data": {
      "text/html": [
       "<div>\n",
       "<style scoped>\n",
       "    .dataframe tbody tr th:only-of-type {\n",
       "        vertical-align: middle;\n",
       "    }\n",
       "\n",
       "    .dataframe tbody tr th {\n",
       "        vertical-align: top;\n",
       "    }\n",
       "\n",
       "    .dataframe thead th {\n",
       "        text-align: right;\n",
       "    }\n",
       "</style>\n",
       "<table border=\"1\" class=\"dataframe\">\n",
       "  <thead>\n",
       "    <tr style=\"text-align: right;\">\n",
       "      <th></th>\n",
       "      <th>Mixed</th>\n",
       "      <th>Negative</th>\n",
       "      <th>Neutral</th>\n",
       "      <th>Positive</th>\n",
       "    </tr>\n",
       "  </thead>\n",
       "  <tbody>\n",
       "    <tr>\n",
       "      <td>francisco</td>\n",
       "      <td>0.0601643</td>\n",
       "      <td>0.0394242</td>\n",
       "      <td>0.574009</td>\n",
       "      <td>0.326403</td>\n",
       "    </tr>\n",
       "    <tr>\n",
       "      <td>pablo</td>\n",
       "      <td>0.202079</td>\n",
       "      <td>0.00787378</td>\n",
       "      <td>0.458985</td>\n",
       "      <td>0.331062</td>\n",
       "    </tr>\n",
       "    <tr>\n",
       "      <td>calixto</td>\n",
       "      <td>0.143777</td>\n",
       "      <td>0.160556</td>\n",
       "      <td>0.369839</td>\n",
       "      <td>0.325829</td>\n",
       "    </tr>\n",
       "    <tr>\n",
       "      <td>rodolfo</td>\n",
       "      <td>0.00112164</td>\n",
       "      <td>0.00819304</td>\n",
       "      <td>0.642435</td>\n",
       "      <td>0.34825</td>\n",
       "    </tr>\n",
       "  </tbody>\n",
       "</table>\n",
       "</div>"
      ],
      "text/plain": [
       "                Mixed    Negative   Neutral  Positive\n",
       "francisco   0.0601643   0.0394242  0.574009  0.326403\n",
       "pablo        0.202079  0.00787378  0.458985  0.331062\n",
       "calixto      0.143777    0.160556  0.369839  0.325829\n",
       "rodolfo    0.00112164  0.00819304  0.642435   0.34825"
      ]
     },
     "execution_count": 26,
     "metadata": {},
     "output_type": "execute_result"
    }
   ],
   "source": [
    "sentiment"
   ]
  }
 ],
 "metadata": {
  "kernelspec": {
   "display_name": "Python 3",
   "language": "python",
   "name": "python3"
  },
  "language_info": {
   "codemirror_mode": {
    "name": "ipython",
    "version": 3
   },
   "file_extension": ".py",
   "mimetype": "text/x-python",
   "name": "python",
   "nbconvert_exporter": "python",
   "pygments_lexer": "ipython3",
   "version": "3.7.4"
  }
 },
 "nbformat": 4,
 "nbformat_minor": 2
}
