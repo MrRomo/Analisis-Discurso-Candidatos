{
 "cells": [
  {
   "cell_type": "code",
   "execution_count": 80,
   "metadata": {},
   "outputs": [
    {
     "name": "stdout",
     "output_type": "stream",
     "text": [
      "Requirement already satisfied: nltk in c:\\users\\wwrik\\anaconda3\\lib\\site-packages (3.4.5)\n",
      "Requirement already satisfied: six in c:\\users\\wwrik\\anaconda3\\lib\\site-packages (from nltk) (1.12.0)\n",
      "Note: you may need to restart the kernel to use updated packages.\n"
     ]
    }
   ],
   "source": [
    "pip install nltk"
   ]
  },
  {
   "cell_type": "code",
   "execution_count": 126,
   "metadata": {},
   "outputs": [],
   "source": [
    "import pandas as pd\n",
    "import nltk \n",
    "from nltk.corpus import stopwords\n",
    "import collections\n",
    "import sys\n",
    "import codecs\n",
    "candidates = ['francisco','pablo','calixto','rodolfo',]\n",
    "pd.set_option(\"max_rows\", None)"
   ]
  },
  {
   "cell_type": "code",
   "execution_count": 103,
   "metadata": {},
   "outputs": [],
   "source": [
    "stop_words = set(stopwords.words('spanish'))"
   ]
  },
  {
   "cell_type": "code",
   "execution_count": 127,
   "metadata": {},
   "outputs": [],
   "source": [
    "def write_file(route, transcription, name):\n",
    "    file = codecs.open(f'{route}/Transcripcion/{name}.txt',\"w\",\"utf-8\")#write mode \n",
    "    file.write(transcription) \n",
    "    file.close() "
   ]
  },
  {
   "cell_type": "code",
   "execution_count": 105,
   "metadata": {},
   "outputs": [],
   "source": [
    "def load_data(route):\n",
    "    entities = pd.read_json(route)\n",
    "    data = pd.DataFrame([[i[\"Text\"], i[\"Type\"], i[\"Score\"]] for i in entities[\"Entities\"]]\n",
    "                            , columns=['Entitie', 'Type', 'Score'])\n",
    "    return data.sort_values('Score', ascending=False).reset_index().drop(columns=['index'])"
   ]
  },
  {
   "cell_type": "code",
   "execution_count": 106,
   "metadata": {},
   "outputs": [],
   "source": [
    "def load_transcripcion(facultad):\n",
    "    files =[pd.read_json(f'{facultad}/Subtitulos/{name}.json', encoding='utf-8') for name in candidates]\n",
    "    transcription = [sub.loc['transcripts']['results'][0]['transcript'] for sub in files]\n",
    "    for i in range(len(transcription)):\n",
    "        write_file(facultad, transcription[i],candidates[i])\n",
    "    return pd.DataFrame(transcription, index= candidates, columns= ['transcription'])"
   ]
  },
  {
   "cell_type": "code",
   "execution_count": 107,
   "metadata": {},
   "outputs": [],
   "source": [
    "def load_discurs(data):\n",
    "    text = pd.DataFrame(data.lower().replace('.', \"\").replace(',',\"\").split(' '))\n",
    "    return text"
   ]
  },
  {
   "cell_type": "code",
   "execution_count": 108,
   "metadata": {},
   "outputs": [],
   "source": [
    "def process_most_common(df, name, n):\n",
    "    return collections.Counter(df.loc[name, 'valid_words']).most_common(n)"
   ]
  },
  {
   "cell_type": "code",
   "execution_count": 175,
   "metadata": {},
   "outputs": [],
   "source": [
    "def valid_words(df):\n",
    "    tokens = tokenize_column(df, 'transcription')\n",
    "    valid_words = pd.DataFrame([len(tokens[i]) for i in range(len(candidates))], index=candidates, columns=['valid_words'])\n",
    "    return valid_words"
   ]
  },
  {
   "cell_type": "code",
   "execution_count": 142,
   "metadata": {},
   "outputs": [],
   "source": [
    "def tabulate_common(df,n):\n",
    "    df['valid_words'] = tokenize_column(df, 'transcription')\n",
    "    most_common = [process_most_common(df, name, n) for name in candidates]\n",
    "    most_common =  pd.DataFrame([i for i in most_common ])\n",
    "    most_common= most_common.transpose().rename(columns={ i:candidates[i] for i in range(4)})\n",
    "    return most_common"
   ]
  },
  {
   "cell_type": "code",
   "execution_count": 143,
   "metadata": {},
   "outputs": [],
   "source": [
    "def tokenize_column(df, column_name):\n",
    "    return(df\n",
    "            .dropna()\n",
    "            .apply(lambda row: nltk.word_tokenize(row[column_name]), axis=1)\n",
    "            .apply(lambda tokens: list(filter(lambda token: token.isalpha(),tokens)))\n",
    "            .apply(lambda tokens: list(map(lambda token: token.lower(), tokens)))\n",
    "            .apply(lambda word_list: list(filter(lambda word: word not in stop_words, word_list)))       \n",
    "    )\n"
   ]
  },
  {
   "cell_type": "markdown",
   "metadata": {},
   "source": [
    "# Facultad de Ingeniería"
   ]
  },
  {
   "cell_type": "code",
   "execution_count": 144,
   "metadata": {},
   "outputs": [],
   "source": [
    "transcription = load_transcripcion('Ingenieria')"
   ]
  },
  {
   "cell_type": "code",
   "execution_count": 172,
   "metadata": {},
   "outputs": [
    {
     "name": "stdout",
     "output_type": "stream",
     "text": [
      "francisco    [muchísimas, gracias, buenos, días, saludo, fr...\n",
      "pablo        [recordamos, ustedes, consulta, interna, sumo,...\n",
      "calixto      [piensa, entonces, presentación, propuesta, go...\n",
      "rodolfo      [muchas, gracias, wilson, cordial, saludo, tod...\n",
      "dtype: object\n",
      "['muchísimas', 'gracias', 'buenos', 'días', 'saludo', 'fraternal', 'estudiantes', 'profesores', 'querida', 'universidad', 'general', 'toda', 'comunidad', 'universitaria', 'supuesto', 'pueblo', 'magdalena', 'francisco', 'garcía', 'número', 'consulta', 'llevarnos', 'elegir', 'proyector', 'próximo', 'periodo', 'universidad', 'demanda', 'elena', 'hecho', 'presentación', 'docente', 'planta', 'escrito', 'programa', 'ingeniería', 'ambiental', 'sanitaria', 'voy', 'poner', 'aquí', 'presentación', 'ustedes', 'vamos', 'hablar', 'cosas', 'particular', 'programa', 'facultad', 'perdón', 'ingeniería', 'va', 'haber', 'foro', 'general', 'temas', 'estudiantado', 'profesorado', 'quiero', 'concentrarme', 'presentar', 'usted', 'propuesta', 'específica', 'mejorar', 'calidad', 'académica', 'investigación', 'pertinencia', 'extensión', 'social', 'hace', 'debe', 'hacerse', 'debe', 'mejorarse', 'rafa', 'cool', 'that', 'ingeniería', 'propósito', 'fundamental', 'programas', 'facultad', 'ingeniería', 'nace', 'universidad', 'manda', 'elena', 'programas', 'ingeniería', 'agronómica', 'agronómica', 'supuesto', 'pesquera', 'podamos', 'seguir', 'consolidando', 'partir', 'facultad', 'calidad', 'pertinencia', 'investigación', 'pertinencia', 'extensión', 'universidad', 'podría', 'ejemplo', 'innovar', 'universidad', 'sino', 'partir', 'facultad', 'ingeniería', 'único', 'programa', 'ingeniería', 'pesquera', 'solo', 'colombia', 'sino', 'poquitos', 'latinoamérica', 'aquí', 'sello', 'distintivo', 'podido', 'sabido', 'aprovechar', 'queremos', 'entonces', 'capacidad', 'instalada', 'hoy', 'desaprovechando', 'universidad', 'renovarla', 'reafirmarla', 'aumentar', 'impulsar', 'innovación', 'tener', 'sello', 'distintivo', 'facultad', 'ingeniería', 'respecto', 'calidad', 'debemos', 'buscar', 'debe', 'haber', 'discusión', 'universidad', 'vamos', 'buscar', 'entonces', 'supuesto', 'acreditación', 'calidad', 'dos', 'programas', 'facultad', 'ingeniería', 'pesca', 'agronomía', 'pueda', 'renovarse', 'ningún', 'problema', 'próximos', 'cuatro', 'años', 'próximos', 'vencer', 'digamos', 'acreditación', 'incluye', 'dejar', 'solución', 'final', 'tubo', 'tema', 'acreditación', 'implementar', 'cultura', 'generalizar', 'acreditación', 'inclusive', 'lleve', 'acreditar', 'cada', 'programas', 'amada', 'querida', 'facultad', 'queremos', 'entonces', 'acreditar', 'impulsar', 'acreditación', 'ingeniería', 'electrónica', 'allí', 'ambiental', 'ingeniería', 'sistemas', 'ingeniería', 'civil', 'ingeniería', 'industrial', 'supuesto', 'aumentar', 'posibilidad', 'tener', 'formación', 'sólo', 'mayor', 'pertinencia', 'sino', 'mayor', 'calidad', 'querida', 'facultad', 'ingeniería', 'hablemos', 'podido', 'ingresar', 'universidad', 'si', 'hoy', 'ustedes', 'estudiantes', 'cada', 'usted', 'privilegio', 'cumpliendo', 'sueño', 'formación', 'profesional', 'cuatro', 'jóvenes', 'magdalena', 'universidad', 'podido', 'acceder', 'institución', 'además', 'negando', 'oportunidades', 'ingresar', 'cumplir', 'sueño', 'formación', 'cómo', 'ocurre', 'departamento', 'ocupa', 'últimos', 'desempeños', 'pruebas', 'ver', 'once', 'cambiar', 'modelo', 'admisión', 'ahora', 'hacerlo', 'examen', 'sino', 'valoración', 'puntajes', 'pruebas', 'saber', 'ongs', 'indolente', 'hoy', 'jóvenes', 'sólo', 'universidad', 'publicar', 'calendario', 'inscripciones', 'saben', 'universidad', 'tan', 'frustrados', 'vamos', 'hacer', 'aquí', 'hoy', 'privilegio', 'cumpliendo', 'sueño', 'información', 'dejar', 'oportunidades', 'superación', 'pobreza', 'ejemplo', 'jóvenes', 'cambiar', 'modelo', 'admisión', 'recuperar', 'examen', 'admisión', 'jóvenes', 'frustren', 'hoy', 'sino', 'sienten', 'silla', 'cónsula', 'pisito', 'credencial', 'borrador', 'saga', 'apunta', 'defender', 'cupo', 'universidad', 'si', 'pasan', 'recuperamos', 'preuniversitario', 'sólo', 'preuniversitario', 'santa', 'marta', 'universitario', 'varios', 'municipios', 'manda', 'arena', 'trabajamos', 'inscripción', 'universidad', 'gratuita', 'menos', 'estrato', 'dos', 'jóvenes', 'hoy', 'departamento', 'pueden', 'inscribirse', 'universidad', 'cien', 'mil', 'pesos', 'hoy', 'cuesta', 'inscripción', 'haciendo', 'entonces', 'llamado', 'responsabilidad', 'solidaridad', 'hoy', 'institución', 'favores', 'camós', 'posibilidad', 'aquellos', 'ingresen', 'hoy', 'jóvenes', 'mañana', 'pueden', 'ser', 'hijos', 'huella', 'universidad', 'demanda', 'arena', 'tener', 'mejor', 'universidad', 'resta', 'vida', 'académica', 'personas', 'personas', 'futuro', 'vendrán', 'ocupar', 'lugares', 'llamado', 'posibilidad', 'próximo', 'debate', 'podamos', 'cambiar', 'modelo', 'universidad', 'inclusión', 'ahí', 'prueba', 'modelo', 'universidad', 'negándole', 'jóvenes', 'oportunidad', 'pasar', 'universidad', 'demanda', 'arena', 'hablar', 'sistema', 'registro', 'control', 'académico', 'universidad', 'dice', 'innovación', 'sistema', 'registro', 'control', 'académico', 'ustedes', 'saben', 'pasa', 'vemos', 'renovarlo', 'digamos', 'mentiras', 'cambiarlo', 'supuesto', 'mejorarlo', 'evitar', 'traumas', 'académicos', 'estudiantes', 'proceso', 'registro', 'control', 'km', 'preferible', 'universidad', 'trabajemos', 'renovar', 'registro', 'académico', 'gastemos', 'recursos', 'cosas', 'hablar', 'entonces', 'barreras', 'ahora', 'sufren', 'estudiantes', 'universidad', 'tema', 'matrícula', 'matrícula', 'universidad', 'demanda', 'elena', 'bastante', 'alta', 'queremos', 'trabajar', 'bajar', 'matrícula', 'queremos', 'próximo', 'semestre', 'mismos', 'mismos', 'problemas', 'cobi', 'menos', 'problema', 'va', 'aparecer', 'tan', 'anhelada', 'recuperación', 'económica', 'podamos', 'trabajar', 'escenario', 'armónico', 'sincronizado', 'trauma', 'matrícula', 'cero', 'recurso', 'inclusive', 'fondo', 'gratuidad', 'educación', 'superior', 'ofrecido', 'gobernación', 'aprobado', 'asamblea', 'podemos', 'gestionar', 'actores', 'específicos', 'orden', 'nacional', 'local', 'mayores', 'recursos', 'podemos', 'hacer', 'esfuerzo', 'institucional', 'eliminando', 'gastos', 'suntuarios', 'si', 'universidad', 'favorecer', 'próximo', 'escenario', 'matrícula', 'cero', 'así', 'adelante', 'propender', 'bajar', 'matrículas', 'comprometiendo', 'revisar', 'modelo', 'matrícula', 'bajarla', 'treinta', 'ciento', 'paulatinamente', 'próximos', 'cuatro', 'años', 'corresponde', 'próximo', 'periodo', 'recto', 'aqui', 'voy', 'mostrar', 'ejemplo', 'vídeo', 'propuesta', 'cómo', 'podemos', 'sacrificar', 'calidad', 'académica', 'eliminando', 'gastos', 'suntuarios', 'bajar', 'matrícula', 'universidad', 'madrid', 'ocurrir', 'pandemia', 'suceda', 'modelo', 'lamentablemente', 'mueve', 'ritmos', 'queremos', 'ser', 'proactivos', 'trabajar', 'cada', 'día', 'bajar', 'matrículas', 'universidad', 'demanda', 'elena', 'miremos', 'hague', 'hague', 'proyecto', 'generación', 'fotovoltaico', 'universidad', 'magdalena', 'proyecto', 'busca', 'darle', 'uso', 'gran', 'espacio', 'cuenta', 'previo', 'universidad', 'magdalena', 'montaje', 'parque', 'fotovoltaico', 'generación', 'energía', 'contará', 'capacidad', 'instalada', 'cercana', 'nueve', 'megavatios', 'generará', 'energía', 'equivalente', 'requerida', 'dos', 'mil', 'ocho', 'cientos', 'setenta', 'viviendas', 'consumo', 'promedio', 'ciudad', 'santa', 'marta', 'granja', 'evitará', 'emisión', 'tres', 'mil', 'doscientas', 'toneladas', 'co', 'dos', 'anualmente', 'equivalente', 'siembra', 'ochenta', 'mil', 'árboles', 'facturarán', 'alrededor', 'veinte', 'mil', 'millones', 'pesos', 'periodo', 'retorno', 'inversión', 'obtendrán', 'utilidades', 'aproximadamente', 'nueve', 'mil', 'millones', 'pesos', 'vida', 'útil', 'proyecto', 'proyecto', 'generará', 'energía', 'limpia', 'amigable', 'medio', 'ambiente', 'veinticinco', 'años', 'funcionamiento', 'ingresos', 'planta', 'universidad', 'podrá', 'subir', 'costos', 'aproximadamente', 'mil', 'quinientas', 'matrículas', 'semestrales', 'kant', 'hague', 'parados', 'toro', 'años', 'ahí', 'viendo', 'posibilidad', 'innovación', 'innovación', 'papel', 'innovación', 'verdad', 'podemos', 'generar', 'posibilidad', 'aumentar', 'ingresos', 'universidad', 'manda', 'arena', 'bajar', 'matrículas', 'ahí', 'además', 'posibilidad', 'estudiantes', 'programas', 'ingeniería', 'electrónica', 'ingeniería', 'sistema', 'energía', 'ambiental', 'minería', 'civil', 'hagan', 'prácticas', 'vuelvan', 'expertos', 'colombia', 'tema', 'además', 'posibilidad', 'costos', 'consumo', 'energético', 'universidad', 'puede', 'reducir', 'podamos', 'aumentar', 'tema', 'responsabilidad', 'social', 'universidad', 'vamos', 'hablar', 'entonces', 'llevar', 'universidad', 'municipios', 'queremos', 'sedes', 'presenciales', 'ciénaga', 'fundación', 'aracataca', 'banco', 'pie', 'jay', 'plató', 'santana', 'ofrecer', 'carreras', 'pertinentes', 'desarrollo', 'municipios', 'llevar', 'oferta', 'académica', 'queremos', 'construir', 'campos', 'digital', 'ejemplo', 'situaciones', 'éstas', 'pandemia', 'jóvenes', 'municipios', 'sala', 'internet', 'computadores', 'provistos', 'universidad', 'demanda', 'arena', 'internet', 'provistos', 'institución', 'inclusive', 'posibilidad', 'fluido', 'eléctrico', 'alterno', 'conecten', 'supuesto', 'condiciones', 'contingencia', 'generas', 'pandemia', 'sabemos', 'si', 'va', 'continuar', 'si', 'van', 'ver', 'olas', 'mismo', 'supuesto', 'potenciar', 'formación', 'digital', 'universidad', 'queremos', 'modernizar', 'planes', 'estudios', 'terminé', 'universidad', 'hace', 'veinticinco', 'años', 'universidad', 'antioquia', 'varios', 'ejemplos', 'asignaturas', 'cursé', 'hace', 'veinticinco', 'años', 'dando', 'misma', 'forma', 'hoy', 'universidad', 'dibujo', 'ejemplo', 'dibujo', 'ser', 'autocad', 'computador', 'dibujo', 'regla', 'lápiz', 'papel', 'sirve', 'formación', 'ingeniero', 'menos', 'ejemplo', 'modernizar', 'planes', 'estudio', 'aumentar', 'hacia', 'flexibilidad', 'tae', 'mika', 'aumentar', 'hacia', 'doble', 'titulación', 'doble', 'titulación', 'puede', 'ser', 'interna', 'ejemplo', 'estudiantes', 'ingeniería', 'civil', 'ingeniería', 'ambiental', 'pueden', 'tener', 'opción', 'doble', 'titulación', 'tashi', 'todas', 'universidades', 'colombia', 'dos', 'carreras', 'ofreciendo', 'opción', 'supuesto', 'aumentar', 'hacia', 'posibilidad', 'mejores', 'mayores', 'convenios', 'podamos', 'tener', 'ejercicio', 'visibilización', 'universidad', 'nivel', 'internacional', 'programas', 'doble', 'titulación', 'formación', 'terminar', 'tiempo', 'puedas', 'terminando', 'estudios', 'pregrado', 'puedan', 'avanzar', 'titulación', 'especializaciones', 'maestrías', 'doctorados', 'resolver', 'problema', 'inglés', 'hoy', 'hoy', 'inglés', 'barrera', 'dejar', 'grabar', 'tiempo', 'oportunamente', 'estudiantes', 'nunca', 'planes', 'estudio', 'relacionamos', 'ingres', 'si', 'pedimos', 'examen', 'final', 'carrera', 'ayúdanos', 'cambiar', 'situación', 'ayudenos', 'mejorar', 'tema', 'inglés', 'universidad', 'supuesto', 'facultad', 'ingeniería', 'lejos', 'convertirse', 'problema', 'fortaleza', 'formación', 'estudiantes', 'queremos', 'construir', 'modernizar', 'construirlos', 'infraestructura', 'tae', 'mika', 'haga', 'falta', 'formación', 'estudiantes', 'falte', 'ninguna', 'práctica', 'laboratorio', 'falte', 'ninguna', 'salida', 'campo', 'esencial', 'aquí', 'sirven', 'agendas', 'aquí', 'sirven', 'regalen', 'agendas', 'aquí', 'sirve', 'vayas', 'laboratorio', 'reactivos', 'insumos', 'equipos', 'necesarios', 'prácticas', 'necesites', 'salida', 'campo', 'recursos', 'académicos', 'necesarios', 'realice', 'agendas', 'quizás', 'mismo', 'espejo', 'españoles', 'engañaron', 'primeros', 'pobladores', 'américa', 'quitarles', 'oro', 'manos', 'interés', 'recursos', 'institución', 'dirigidos', 'hacia', 'calidad', 'académica', 'hacia', 'pertinencia', 'investigación', 'extensión', 'necesario', 'manera', 'si', 'arreglo', 'institucional', 'funcione', 'modernizar', 'planta', 'piloto', 'ganga', 'hacer', 'cuatro', 'años', 'avanzamos', 'modernizar', 'estación', 'piscícola', 'ponerla', 'servicio', 'sólo', 'investigación', 'sino', 'caña', 'dicen', 'granja', 'grana', 'debería', 'ser', 'grandes', 'motores', 'desarrollo', 'potencial', 'académico', 'sólo', 'programa', 'agronomía', 'programas', 'ahí', 'supuesto', 'potenciar', 'venta', 'servicio', 'propiciar', 'laboratorios', 'universidad', 'puedan', 'estudiantes', 'tener', 'oportunidad', 'aumentar', 'capacidad', 'habilidades', 'destrezas', 'allá', 'salón', 'clase', 'laboratorios', 'tener', 'disponibilidad', 'estudiantes', 'puedan', 'acceder', 'espacios', 'formación', 'espacios', 'autónomos', 'hoy', 'restringido', 'vamos', 'modernizar', 'centro', 'idiomas', 'flexibilizar', 'dicho', 'examen', 'inglés', 'trabajar', 'mejorar', 'problema', 'prácticas', 'profesionales', 'estudiantes', 'buscar', 'salir', 'buscar', 'prácticas', 'profesionales', 'hoy', 'emprender', 'programa', 'agresivo', 'mejorar', 'aspectos', 'dicen', 'internacionalización', 'universidad', 'modernizando', 'planes', 'estudio', 'adaptarlos', 'formación', 'planes', 'estudios', 'exterior', 'propiciar', 'movilización', 'movilidad', 'estudiantes', 'docentes', 'supuesto', 'mejorar', 'tema', 'opciones', 'grado', 'hablemos', 'bienestar', 'mejorar', 'todas', 'opciones', 'bienestar', 'beneficios', 'entregados', 'razón', 'vulnerabilidad', 'personas', 'privilegia', 'privilegie', 'mérito', 'volver', 'ejemplo', 'semana', 'deportiva', 'copa', 'manda', 'elena', 'llamando', 'can', 'escribir', 'nueva', 'historia', 'universidad', 'manda', 'elena', 'llamado', 'cambiemos', 'ue', 'mejoremos', 'aquello', 'ustedes', 'saben', 'mejorar', 'funcionando', 'mal', 'cambiando', 'modelo', 'administrar', 'universidad', 'gestionar', 'recursos', 'muchísimas', 'gracias', 'continuación', 'continuación', 'diez', 'minutos', 'partir', 'dice', 'responder', 'candidato', 'número', 'responder', 'preguntas', 'gestado', 'redes', 'sociales', 'hacemos', 'lectura', 'nombre', 'personas', 'través', 'fútbol', 'generado', 'preguntas', 'pedro', 'luis', 'salcedo', 'ramírez', 'pregunta', 'candidato', 'francisco', 'garcía', 'cuáles', 'estrategias', 'plantea', 'lograr', 'acreditación', 'tema', 'acreditación', 'supuesto', 'mejorar', 'posibilidad', 'tener', 'autor', 'relación', 'continua', 'cada', 'programas', 'sólo', 'camino', 'renovar', 'acreditación', 'alta', 'calidad', 'sino', 'tema', 'programas', 'abocan', 'camino', 'adquirir', 'acreditación', 'trabajar', 'tema', 'aumentar', 'número', 'docentes', 'estrategias', 'ejemplo', 'hablo', 'tema', 'cambiar', 'modelo', 'admisiones', 'generando', 'condiciones', 'equidad', 'personas', 'seda', 'formación', 'ver', 'digamos', 'factores', 'acreditación', 'hablo', 'modernizar', 'planes', 'estudio', 'actualizar', 'mismos', 'incrementar', 'construir', 'infraestructura', 'académica', 'ver', 'acreditación', 'general', 'programas', 'hablamos', 'mejorar', 'condiciones', 'profesores', 'cátedra', 'hagan', 'extensión', 'hagan', 'investigación', 'puedan', 'atender', 'estudiantes', 'tiempo', 'remunere', 'tiempo', 'aprendizaje', 'monitorear', 'aprendizaje', 'autónomo', 'ver', 'acreditación', 'calidad', 'programas', 'hablamos', 'requisitos', 'declaró', 'grado', 'hablamos', 'tema', 'internacionalización', 'ver', 'estrategias', 'factores', 'calidad', 'programas', 'supuesto', 'aprovechar', 'avanzado', 'estrategia', 'auto', 'relación', 'día', 'digamos', 'cultura', 'universidad', 'debemos', 'dejar', 'atrás', 'ningún', 'programa', 'facultad', 'ingeniería', 'posibilidad', 'obtener', 'tema', 'acreditación', 'pregunta', 'garland', 'andrés', 'oros', 'estan', 'propuestas', 'ingeniería', 'propuestas', 'ingeniería', 'necesitamos', 'profesores', 'planta', 'necesitamos', 'construir', 'infraestructura', 'laboratorio', 'ejemplo', 'temas', 'laboratorios', 'laboratorio', 'prácticas', 'topografía', 'hoy', 'ciencia', 'técnica', 'avanzado', 'ejemplo', 'topografía', 'aero', 'fotogramétrico', 'avanzar', 'hacia', 'meditamos', 'edificio', 'instalaciones', 'laboratorio', 'programas', 'falte', 'nunca', 'falte', 'nunca', 'práctica', 'académica', 'falte', 'nunca', 'posibilidad', 'hacer', 'laboratorios', 'necesitamos', 'infraestructura', 'ta', 'caso', 'si', 'ahí', 'necesitamos', 'trabajar', 'tema', 'prácticas', 'profesionales', 'allí', 'respuesta', 'programa', 'universidad', 'tado', 'empresa', 'hacer', 'búsqueda', 'agresiva', 'sostenía', 'supuesto', 'exitosa', 'mejorar', 'posibilidades', 'estudiantes', 'hagan', 'prácticas', 'gran', 'necesitamos', 'instalaciones', 'edificios', 'investigación', 'sólo', 'investigación', 'aplicada', 'sino', 'investigación', 'formativa', 'ford', 'parecer', 'mociones', 'grados', 'estudiantes', 'concreto', 'queremos', 'avanzar', 'universidad', 'aumentar', 'cuatro', 'cientos', 'número', 'profesores', 'planta', 'quiere', 'decir', 'menos', 'tres', 'dos', 'cientos', 'ciento', 'cincuenta', 'profesores', 'nombrar', 'próximos', 'cuatro', 'años', 'parte', 'profesores', 'destinados', 'programas', 'ingeniería', 'facultad', 'ingeniería', 'hablado', 'granja', 'hablado', 'planta', 'piloto', 'hablado', 'posibilidad', 'construir', 'nueva', 'granja', 'parte', 'insular', 'hablado', 'laboratorios', 'hablado', 'inglés', 'hablado', 'flexibilidad', 'cae', 'mika', 'hablado', 'internacionalización', 'universidad', 'usted', 'comprenderá', 'entenderán', 'espacios', 'tan', 'limitados', 'así', 'consulta', 'cambiar', 'modelo', 'rectoría', 'modelo', 'universidad', 'apenas', 'ocho', 'días', 'consulta', 'conociendo', 'candidatos', 'propuestas', 'debería', 'haber', 'espacios', 'amplios', 'divulgar', 'ideas', 'discutirlas', 'controvertir', 'controvertir', 'si', 'lugar', 'ello', 'espacio', 'veinte', 'minutos', 'andan', 'imposible', 'digamos', 'presentar', 'aunque', 'orden', 'aunque', 'digamos', 'resumen', 'impulsando', 'cambiar', 'universidad', 'si', 'usted', 'remiten', 'página', 'web', 'universidad', 'ahí', 'digamos', 'extenso', 'propuesta', 'apartes', 'específicos', 'facultad', 'ingeniería', 'pregunta', 'paula', 'andrea', 'sepúlveda', 'cano', 'gustaría', 'saber', 'área', 'universidad', 'proyecta', 'parque', 'fotovoltaico', 'vídeo', 'da', 'impresión', 'aparentemente', 'área', 'granja', 'ingenería', 'aronica', 'realiza', 'prácticas', 'usted', 'ven', 'nuevo', 'vídeo', 'vamos', 'divulgar', 'red', 'si', 'universidad', 'permite', 'sabemos', 'página', 'web', 'universidad', 'entendemos', 'restricción', 'conozcan', 'propuestas', 'candidatos', 'imágenes', 'claramente', 'superpuesta', 'paneles', 'solares', 'espacios', 'ocupando', 'espacio', 'estación', 'piscícola', 'área', 'siembra', 'granja', 'laboratorios', 'allí', 'talleres', 'siquiera', 'bosque', 'allí', 'supuesto', 'implementarse', 'proyecto', 'rectores', 'respetuosos', 'espacios', 'lejos', 'carlos', 'potenciarlo', 'utilidades', 'granja', 'paga', 'pagaríamos', 'mínimo', 'mil', 'quinientas', 'matrículas', 'semestre', 'universidad', 'quedaría', 'además', 'nueve', 'mil', 'millones', 'pesos', 'utilidades', 'podemos', 'inclusive', 'dado', 'queremos', 'llevar', 'universidad', 'municipios', 'quieren', 'nuevos', 'espacios', 'granjas', 'municipios', 'banco', 'municipios', 'zona', 'bananera', 'aquí', 'mismo', 'ciénaga', 'digamos', 'vocación', 'ligar', 'netamente', 'agrícola', 'manera', 'proyecto', 'respeta', 'espacio', 'granja', 'además', 'posibilidad', 'utilidades', 'generan', 'allí', 'ayuden', 'expandir', 'instalaciones', 'granja', 'municipios', 'vocación', 'agrícola', 'mandale', 'pregunta', 'ronal', 'carrillo', 'faltando', 'dos', 'minutos', 'segundos', 'señor', 'comité', 'garantías', 'dónde', 'saldrá', 'dinero', 'recursos', 'laboratorios', 'ofertar', 'programas', 'propone', 'hacer', 'matrículas', 'altas', 'dependerá', 'sostenimiento', 'dichas', 'redes', 'cáceres', 'claro', 'ahí', 'hoy', 'ejemplo', 'nueva', 'ley', 'regalías', 'nuevo', 'sistema', 'regalía', 'permite', 'financiar', 'buena', 'parte', 'infraestructura', 'requiere', 'avanzar', 'formación', 'pregrado', 'posgrado', 'entonces', 'estrategias', 'supuesto', 'tomar', 'parte', 'recursos', 'ciencia', 'tecnología', 'sistemas', 'regalía', 'tratar', 'financiar', 'infraestructura', 'social', 'ampliación', 'municipios', 'planes', 'desarrollo', 'ejemplo', 'gobernación', 'noventa', 'siete', 'mil', 'millones', 'pesos', 'destinados', 'ampliación', 'construcción', 'infraestructura', 'educativa', 'educación', 'superior', 'cinco', 'seis', 'municipios', 'proponiendo', 'allí', 'posibilidad', 'hacer', 'uso', 'estrategia', 'nunca', 'estrenado', 'universidad', 'efecto', 'exenciones', 'tributarias', 'podemos', 'programa', 'eh', 'empre', 'universidad', 'empresa', 'priva', 'hacer', 'uso', 'extensiones', 'tributarias', 'pueden', 'aspirar', 'personas', 'tributando', 'inversión', 'ciencia', 'tecnología', 'inversión', 'infraestructura', 'tae', 'mika', 'universidad', 'podamos', 'financiar', 'infraestructura', 'falta', 'hacer', 'gestionar', 'recursos', 'hacen', 'falta', 'administrar', 'bien', 'recursos', 'proyectar', 'viaje', 'universidad', 'hacia', 'municipios', 'manda', 'elena', 'ahora', 'presencia', 'candidato', 'comodoro', 'doctor', 'francisco', 'garcía', 'rentería', 'participación', 'día', 'hoy', 'sigue', 'través', 'redes', 'sociales', 'vamos', 'hacer', 'pausa', 'cumplirle', 'protocolos', 'bioseguridad', 'primer', 'nación', 'candidatos', 'venideros', 'implementar', 'logística', 'cara', 'presentación', 'candidatos', 'sigue', 'regresamos', 'ustedes', 'lista']\n"
     ]
    }
   ],
   "source": [
    "palabras_utiles = valid_words(transcription)\n",
    "palabras_comunes = tabulate_common(transcription, 5 )\n"
   ]
  },
  {
   "cell_type": "code",
   "execution_count": 174,
   "metadata": {},
   "outputs": [
    {
     "data": {
      "text/html": [
       "<div>\n",
       "<style scoped>\n",
       "    .dataframe tbody tr th:only-of-type {\n",
       "        vertical-align: middle;\n",
       "    }\n",
       "\n",
       "    .dataframe tbody tr th {\n",
       "        vertical-align: top;\n",
       "    }\n",
       "\n",
       "    .dataframe thead th {\n",
       "        text-align: right;\n",
       "    }\n",
       "</style>\n",
       "<table border=\"1\" class=\"dataframe\">\n",
       "  <thead>\n",
       "    <tr style=\"text-align: right;\">\n",
       "      <th></th>\n",
       "      <th>0</th>\n",
       "    </tr>\n",
       "  </thead>\n",
       "  <tbody>\n",
       "    <tr>\n",
       "      <td>francisco</td>\n",
       "      <td>1827</td>\n",
       "    </tr>\n",
       "    <tr>\n",
       "      <td>pablo</td>\n",
       "      <td>2913</td>\n",
       "    </tr>\n",
       "    <tr>\n",
       "      <td>calixto</td>\n",
       "      <td>1847</td>\n",
       "    </tr>\n",
       "    <tr>\n",
       "      <td>rodolfo</td>\n",
       "      <td>2171</td>\n",
       "    </tr>\n",
       "  </tbody>\n",
       "</table>\n",
       "</div>"
      ],
      "text/plain": [
       "              0\n",
       "francisco  1827\n",
       "pablo      2913\n",
       "calixto    1847\n",
       "rodolfo    2171"
      ]
     },
     "execution_count": 174,
     "metadata": {},
     "output_type": "execute_result"
    }
   ],
   "source": [
    "palabras_utiles"
   ]
  },
  {
   "cell_type": "markdown",
   "metadata": {},
   "source": [
    "# Facultad de Ciencias de la Salud"
   ]
  },
  {
   "cell_type": "code",
   "execution_count": 132,
   "metadata": {},
   "outputs": [],
   "source": [
    "transcription = load_transcripcion('Salud')"
   ]
  },
  {
   "cell_type": "code",
   "execution_count": 133,
   "metadata": {},
   "outputs": [],
   "source": [
    "palabras_comunes = tabulate_common(transcription, 5 )"
   ]
  },
  {
   "cell_type": "code",
   "execution_count": 134,
   "metadata": {},
   "outputs": [
    {
     "data": {
      "text/html": [
       "<div>\n",
       "<style scoped>\n",
       "    .dataframe tbody tr th:only-of-type {\n",
       "        vertical-align: middle;\n",
       "    }\n",
       "\n",
       "    .dataframe tbody tr th {\n",
       "        vertical-align: top;\n",
       "    }\n",
       "\n",
       "    .dataframe thead th {\n",
       "        text-align: right;\n",
       "    }\n",
       "</style>\n",
       "<table border=\"1\" class=\"dataframe\">\n",
       "  <thead>\n",
       "    <tr style=\"text-align: right;\">\n",
       "      <th></th>\n",
       "      <th>francisco</th>\n",
       "      <th>pablo</th>\n",
       "      <th>calixto</th>\n",
       "      <th>rodolfo</th>\n",
       "    </tr>\n",
       "  </thead>\n",
       "  <tbody>\n",
       "    <tr>\n",
       "      <td>0</td>\n",
       "      <td>(universidad, 37)</td>\n",
       "      <td>(universidad, 51)</td>\n",
       "      <td>(universidad, 95)</td>\n",
       "      <td>(universidad, 43)</td>\n",
       "    </tr>\n",
       "    <tr>\n",
       "      <td>1</td>\n",
       "      <td>(supuesto, 32)</td>\n",
       "      <td>(estudiantes, 36)</td>\n",
       "      <td>(estudiantes, 31)</td>\n",
       "      <td>(ser, 21)</td>\n",
       "    </tr>\n",
       "    <tr>\n",
       "      <td>2</td>\n",
       "      <td>(estudiantes, 28)</td>\n",
       "      <td>(salud, 32)</td>\n",
       "      <td>(hacer, 24)</td>\n",
       "      <td>(hacer, 18)</td>\n",
       "    </tr>\n",
       "    <tr>\n",
       "      <td>3</td>\n",
       "      <td>(programa, 21)</td>\n",
       "      <td>(si, 25)</td>\n",
       "      <td>(calidad, 19)</td>\n",
       "      <td>(magdalena, 17)</td>\n",
       "    </tr>\n",
       "    <tr>\n",
       "      <td>4</td>\n",
       "      <td>(ejemplo, 21)</td>\n",
       "      <td>(mil, 22)</td>\n",
       "      <td>(voy, 14)</td>\n",
       "      <td>(vamos, 15)</td>\n",
       "    </tr>\n",
       "  </tbody>\n",
       "</table>\n",
       "</div>"
      ],
      "text/plain": [
       "           francisco              pablo            calixto            rodolfo\n",
       "0  (universidad, 37)  (universidad, 51)  (universidad, 95)  (universidad, 43)\n",
       "1     (supuesto, 32)  (estudiantes, 36)  (estudiantes, 31)          (ser, 21)\n",
       "2  (estudiantes, 28)        (salud, 32)        (hacer, 24)        (hacer, 18)\n",
       "3     (programa, 21)           (si, 25)      (calidad, 19)    (magdalena, 17)\n",
       "4      (ejemplo, 21)          (mil, 22)          (voy, 14)        (vamos, 15)"
      ]
     },
     "execution_count": 134,
     "metadata": {},
     "output_type": "execute_result"
    }
   ],
   "source": [
    "palabras_comunes"
   ]
  },
  {
   "cell_type": "markdown",
   "metadata": {},
   "source": [
    "# Facultad de Humanidades"
   ]
  },
  {
   "cell_type": "code",
   "execution_count": 136,
   "metadata": {},
   "outputs": [],
   "source": [
    "transcription = load_transcripcion('Humanidades')"
   ]
  },
  {
   "cell_type": "code",
   "execution_count": 137,
   "metadata": {},
   "outputs": [],
   "source": [
    "palabras_comunes = tabulate_common(transcription, 5 )"
   ]
  },
  {
   "cell_type": "code",
   "execution_count": 138,
   "metadata": {},
   "outputs": [
    {
     "data": {
      "text/html": [
       "<div>\n",
       "<style scoped>\n",
       "    .dataframe tbody tr th:only-of-type {\n",
       "        vertical-align: middle;\n",
       "    }\n",
       "\n",
       "    .dataframe tbody tr th {\n",
       "        vertical-align: top;\n",
       "    }\n",
       "\n",
       "    .dataframe thead th {\n",
       "        text-align: right;\n",
       "    }\n",
       "</style>\n",
       "<table border=\"1\" class=\"dataframe\">\n",
       "  <thead>\n",
       "    <tr style=\"text-align: right;\">\n",
       "      <th></th>\n",
       "      <th>francisco</th>\n",
       "      <th>pablo</th>\n",
       "      <th>calixto</th>\n",
       "      <th>rodolfo</th>\n",
       "    </tr>\n",
       "  </thead>\n",
       "  <tbody>\n",
       "    <tr>\n",
       "      <td>0</td>\n",
       "      <td>(investigación, 27)</td>\n",
       "      <td>(universidad, 40)</td>\n",
       "      <td>(universidad, 83)</td>\n",
       "      <td>(universidad, 61)</td>\n",
       "    </tr>\n",
       "    <tr>\n",
       "      <td>1</td>\n",
       "      <td>(programa, 27)</td>\n",
       "      <td>(derecho, 28)</td>\n",
       "      <td>(rector, 21)</td>\n",
       "      <td>(tener, 23)</td>\n",
       "    </tr>\n",
       "    <tr>\n",
       "      <td>2</td>\n",
       "      <td>(estudiantes, 25)</td>\n",
       "      <td>(estudiantes, 27)</td>\n",
       "      <td>(propuesta, 17)</td>\n",
       "      <td>(estudiantes, 22)</td>\n",
       "    </tr>\n",
       "    <tr>\n",
       "      <td>3</td>\n",
       "      <td>(supuesto, 25)</td>\n",
       "      <td>(hoy, 23)</td>\n",
       "      <td>(entonces, 16)</td>\n",
       "      <td>(hacer, 21)</td>\n",
       "    </tr>\n",
       "    <tr>\n",
       "      <td>4</td>\n",
       "      <td>(universidad, 24)</td>\n",
       "      <td>(hacer, 17)</td>\n",
       "      <td>(facultad, 15)</td>\n",
       "      <td>(magdalena, 19)</td>\n",
       "    </tr>\n",
       "  </tbody>\n",
       "</table>\n",
       "</div>"
      ],
      "text/plain": [
       "             francisco              pablo            calixto  \\\n",
       "0  (investigación, 27)  (universidad, 40)  (universidad, 83)   \n",
       "1       (programa, 27)      (derecho, 28)       (rector, 21)   \n",
       "2    (estudiantes, 25)  (estudiantes, 27)    (propuesta, 17)   \n",
       "3       (supuesto, 25)          (hoy, 23)     (entonces, 16)   \n",
       "4    (universidad, 24)        (hacer, 17)     (facultad, 15)   \n",
       "\n",
       "             rodolfo  \n",
       "0  (universidad, 61)  \n",
       "1        (tener, 23)  \n",
       "2  (estudiantes, 22)  \n",
       "3        (hacer, 21)  \n",
       "4    (magdalena, 19)  "
      ]
     },
     "execution_count": 138,
     "metadata": {},
     "output_type": "execute_result"
    }
   ],
   "source": [
    "palabras_comunes"
   ]
  },
  {
   "cell_type": "code",
   "execution_count": null,
   "metadata": {},
   "outputs": [],
   "source": []
  }
 ],
 "metadata": {
  "kernelspec": {
   "display_name": "Python 3",
   "language": "python",
   "name": "python3"
  },
  "language_info": {
   "codemirror_mode": {
    "name": "ipython",
    "version": 3
   },
   "file_extension": ".py",
   "mimetype": "text/x-python",
   "name": "python",
   "nbconvert_exporter": "python",
   "pygments_lexer": "ipython3",
   "version": "3.7.4"
  }
 },
 "nbformat": 4,
 "nbformat_minor": 2
}
